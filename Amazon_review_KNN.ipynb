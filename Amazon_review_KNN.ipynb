{
 "cells": [
  {
   "cell_type": "code",
   "execution_count": 73,
   "metadata": {},
   "outputs": [
    {
     "data": {
      "text/plain": [
       "positive    38479\n",
       "negative     7592\n",
       "Name: Score, dtype: int64"
      ]
     },
     "execution_count": 73,
     "metadata": {},
     "output_type": "execute_result"
    }
   ],
   "source": [
    "# Loading Data\n",
    "\n",
    "%matplotlib inline\n",
    "\n",
    "import sqlite3\n",
    "import pandas as pd\n",
    "import numpy as np\n",
    "import nltk\n",
    "import string\n",
    "import matplotlib.pyplot as plt\n",
    "import seaborn as sns\n",
    "from sklearn.feature_extraction.text import TfidfTransformer\n",
    "from sklearn.feature_extraction.text import TfidfVectorizer\n",
    "\n",
    "from sklearn.feature_extraction.text import CountVectorizer\n",
    "from sklearn.metrics import confusion_matrix\n",
    "from sklearn import metrics\n",
    "from sklearn.metrics import roc_curve, auc\n",
    "from nltk.stem.porter import PorterStemmer\n",
    "import random\n",
    "\n",
    "\n",
    "# using the SQLite Table to read data.\n",
    "con = sqlite3.connect('final.sqlite') \n",
    "\n",
    "\n",
    "\n",
    "#filtering only positive and negative reviews i.e. \n",
    "# not taking into consideration those reviews with Score=3\n",
    "cleaned_data = pd.read_sql_query(\"\"\"\n",
    "SELECT *\n",
    "FROM Reviews\n",
    "\"\"\", con) \n",
    "#select a random 150 rows \n",
    "\n",
    "data_pos = cleaned_data[cleaned_data[\"Score\"]=='positive'].sample(n = 5000,replace=True)\n",
    "data_neg = cleaned_data[cleaned_data[\"Score\"]=='negative'].sample(n = 5000, replace=True)\n",
    "final_data = pd.concat([data_pos, data_neg])\n",
    "cleaned_data['Score'].value_counts()"
   ]
  },
  {
   "cell_type": "code",
   "execution_count": 74,
   "metadata": {},
   "outputs": [
    {
     "data": {
      "text/html": [
       "<div>\n",
       "<style scoped>\n",
       "    .dataframe tbody tr th:only-of-type {\n",
       "        vertical-align: middle;\n",
       "    }\n",
       "\n",
       "    .dataframe tbody tr th {\n",
       "        vertical-align: top;\n",
       "    }\n",
       "\n",
       "    .dataframe thead th {\n",
       "        text-align: right;\n",
       "    }\n",
       "</style>\n",
       "<table border=\"1\" class=\"dataframe\">\n",
       "  <thead>\n",
       "    <tr style=\"text-align: right;\">\n",
       "      <th></th>\n",
       "      <th>index</th>\n",
       "      <th>Id</th>\n",
       "      <th>ProductId</th>\n",
       "      <th>UserId</th>\n",
       "      <th>ProfileName</th>\n",
       "      <th>HelpfulnessNumerator</th>\n",
       "      <th>HelpfulnessDenominator</th>\n",
       "      <th>Score</th>\n",
       "      <th>Time</th>\n",
       "      <th>Summary</th>\n",
       "      <th>Text</th>\n",
       "      <th>CleanedText</th>\n",
       "    </tr>\n",
       "  </thead>\n",
       "  <tbody>\n",
       "    <tr>\n",
       "      <th>8473</th>\n",
       "      <td>32469</td>\n",
       "      <td>35339</td>\n",
       "      <td>B000GW46D4</td>\n",
       "      <td>A2ZSK8NC6PX0ZY</td>\n",
       "      <td>Donald G. Dassel \"Donald347\"</td>\n",
       "      <td>3</td>\n",
       "      <td>3</td>\n",
       "      <td>positive</td>\n",
       "      <td>2009-12-06</td>\n",
       "      <td>Excellent Protein Quatity</td>\n",
       "      <td>I find the Jack Links Teriyaki Beef Steaks exc...</td>\n",
       "      <td>b'find jack link teriyaki beef steak excel tas...</td>\n",
       "    </tr>\n",
       "    <tr>\n",
       "      <th>16748</th>\n",
       "      <td>45229</td>\n",
       "      <td>49203</td>\n",
       "      <td>B0015UX574</td>\n",
       "      <td>A1W31VOK4DT8P0</td>\n",
       "      <td>MattK</td>\n",
       "      <td>0</td>\n",
       "      <td>0</td>\n",
       "      <td>positive</td>\n",
       "      <td>2012-05-31</td>\n",
       "      <td>Gustaf's wine gums</td>\n",
       "      <td>Gustaf's wine gums are very good. Maynards win...</td>\n",
       "      <td>b'gustaf wine gum good maynard wine gum choic ...</td>\n",
       "    </tr>\n",
       "    <tr>\n",
       "      <th>12516</th>\n",
       "      <td>2630</td>\n",
       "      <td>2867</td>\n",
       "      <td>B000PSFKE8</td>\n",
       "      <td>AN5GCKW0I6028</td>\n",
       "      <td>Melissa \"Ringbearer\"</td>\n",
       "      <td>2</td>\n",
       "      <td>2</td>\n",
       "      <td>positive</td>\n",
       "      <td>2011-12-31</td>\n",
       "      <td>My Sheltie Adores Them!</td>\n",
       "      <td>These are a great snack for any dog who has fo...</td>\n",
       "      <td>b'great snack dog food allergi chicken pound s...</td>\n",
       "    </tr>\n",
       "    <tr>\n",
       "      <th>31030</th>\n",
       "      <td>42460</td>\n",
       "      <td>46197</td>\n",
       "      <td>B002ZF5QZC</td>\n",
       "      <td>A3D165TX35GR0</td>\n",
       "      <td>S. Macnicoll</td>\n",
       "      <td>2</td>\n",
       "      <td>2</td>\n",
       "      <td>positive</td>\n",
       "      <td>2010-08-02</td>\n",
       "      <td>Good bones at a good price</td>\n",
       "      <td>You get LOTS of bones at a very good price. Yo...</td>\n",
       "      <td>b'get lot bone good price cant beat supermarke...</td>\n",
       "    </tr>\n",
       "    <tr>\n",
       "      <th>10858</th>\n",
       "      <td>37514</td>\n",
       "      <td>40749</td>\n",
       "      <td>B000LKYYBU</td>\n",
       "      <td>A1DSI0B2N07GKI</td>\n",
       "      <td>Arius Cayne \"Arius Cayne\"</td>\n",
       "      <td>1</td>\n",
       "      <td>1</td>\n",
       "      <td>positive</td>\n",
       "      <td>2011-09-02</td>\n",
       "      <td>Hot Damn, This Is GREAT!</td>\n",
       "      <td>I pondered buying this product for days becaus...</td>\n",
       "      <td>b'ponder buy product day mix review mani conce...</td>\n",
       "    </tr>\n",
       "    <tr>\n",
       "      <th>25834</th>\n",
       "      <td>43878</td>\n",
       "      <td>47755</td>\n",
       "      <td>B001SAU16Y</td>\n",
       "      <td>A18ZEMA7Y1HPMN</td>\n",
       "      <td>Hope Fairy</td>\n",
       "      <td>0</td>\n",
       "      <td>0</td>\n",
       "      <td>positive</td>\n",
       "      <td>2010-05-11</td>\n",
       "      <td>Delicious!</td>\n",
       "      <td>This stuff is so delicious! It is hard to beli...</td>\n",
       "      <td>b'stuff delici hard believ sugar free would re...</td>\n",
       "    </tr>\n",
       "    <tr>\n",
       "      <th>43576</th>\n",
       "      <td>30727</td>\n",
       "      <td>33477</td>\n",
       "      <td>B006N3I84I</td>\n",
       "      <td>A1JFJ36XNBA4C0</td>\n",
       "      <td>Maxell</td>\n",
       "      <td>0</td>\n",
       "      <td>0</td>\n",
       "      <td>positive</td>\n",
       "      <td>2010-09-28</td>\n",
       "      <td>Excellent taste</td>\n",
       "      <td>We have a lot of different flavors at my offic...</td>\n",
       "      <td>b'lot differ flavor offic lucki tri purchas ho...</td>\n",
       "    </tr>\n",
       "    <tr>\n",
       "      <th>27810</th>\n",
       "      <td>20640</td>\n",
       "      <td>22550</td>\n",
       "      <td>B002BCE9JS</td>\n",
       "      <td>AMRCPHH1DOSLH</td>\n",
       "      <td>B. Boley</td>\n",
       "      <td>0</td>\n",
       "      <td>0</td>\n",
       "      <td>positive</td>\n",
       "      <td>2011-09-21</td>\n",
       "      <td>A delicious quick meal</td>\n",
       "      <td>I enjoyed this soup. Yes we would all like fre...</td>\n",
       "      <td>b'enjoy soup yes would like fresh pho soup are...</td>\n",
       "    </tr>\n",
       "    <tr>\n",
       "      <th>6067</th>\n",
       "      <td>39032</td>\n",
       "      <td>42377</td>\n",
       "      <td>B000F0FX52</td>\n",
       "      <td>A365IPND6FFKQR</td>\n",
       "      <td>big bob</td>\n",
       "      <td>2</td>\n",
       "      <td>2</td>\n",
       "      <td>positive</td>\n",
       "      <td>2011-08-14</td>\n",
       "      <td>would recommend</td>\n",
       "      <td>three main complaints, otherwise happy. The pl...</td>\n",
       "      <td>b'three main complaint otherwis happi plastic ...</td>\n",
       "    </tr>\n",
       "    <tr>\n",
       "      <th>17820</th>\n",
       "      <td>7450</td>\n",
       "      <td>8134</td>\n",
       "      <td>B0019GVYR2</td>\n",
       "      <td>A2YUBHRV4DBRLF</td>\n",
       "      <td>big fan</td>\n",
       "      <td>2</td>\n",
       "      <td>2</td>\n",
       "      <td>positive</td>\n",
       "      <td>2011-10-27</td>\n",
       "      <td>fast shipping, great price.</td>\n",
       "      <td>I got this product for consumption, I took som...</td>\n",
       "      <td>b'got product consumpt took store bought bake ...</td>\n",
       "    </tr>\n",
       "    <tr>\n",
       "      <th>43489</th>\n",
       "      <td>30743</td>\n",
       "      <td>33494</td>\n",
       "      <td>B006N3I84I</td>\n",
       "      <td>ALDCYI1NWWWKL</td>\n",
       "      <td>Jason Hebert \"TexasGolf\"</td>\n",
       "      <td>0</td>\n",
       "      <td>1</td>\n",
       "      <td>positive</td>\n",
       "      <td>2011-03-19</td>\n",
       "      <td>Love Italian Roast</td>\n",
       "      <td>As someone who likes coffee black at Starbucks...</td>\n",
       "      <td>b'someon like coffe black starbuck love americ...</td>\n",
       "    </tr>\n",
       "    <tr>\n",
       "      <th>2677</th>\n",
       "      <td>48718</td>\n",
       "      <td>52932</td>\n",
       "      <td>B0007A8XV6</td>\n",
       "      <td>A37OEAOYVLKYC</td>\n",
       "      <td>Lisa (Hartford CT)</td>\n",
       "      <td>0</td>\n",
       "      <td>1</td>\n",
       "      <td>positive</td>\n",
       "      <td>2008-10-04</td>\n",
       "      <td>Great product</td>\n",
       "      <td>All the david rio chai's are good.  This one h...</td>\n",
       "      <td>b'david rio chai good one great flavor decaf c...</td>\n",
       "    </tr>\n",
       "    <tr>\n",
       "      <th>27828</th>\n",
       "      <td>2766</td>\n",
       "      <td>3009</td>\n",
       "      <td>B002BERULK</td>\n",
       "      <td>A3FZIF4QSGUS3T</td>\n",
       "      <td>Aggie \"girlfriend\"</td>\n",
       "      <td>2</td>\n",
       "      <td>2</td>\n",
       "      <td>positive</td>\n",
       "      <td>2011-12-11</td>\n",
       "      <td>Jarred Paradise</td>\n",
       "      <td>Amazing! My roommate brought this home because...</td>\n",
       "      <td>b'amaz roommat brought home sale first gave sh...</td>\n",
       "    </tr>\n",
       "    <tr>\n",
       "      <th>29054</th>\n",
       "      <td>37465</td>\n",
       "      <td>40697</td>\n",
       "      <td>B002KP5JY0</td>\n",
       "      <td>A136624NBO0KT0</td>\n",
       "      <td>nicsin</td>\n",
       "      <td>0</td>\n",
       "      <td>0</td>\n",
       "      <td>positive</td>\n",
       "      <td>2009-11-06</td>\n",
       "      <td>Good Source Of Energy</td>\n",
       "      <td>This is the second set I bought I take it in t...</td>\n",
       "      <td>b'second set bought take morn energi need day ...</td>\n",
       "    </tr>\n",
       "    <tr>\n",
       "      <th>2189</th>\n",
       "      <td>41707</td>\n",
       "      <td>45317</td>\n",
       "      <td>B0005XN9HI</td>\n",
       "      <td>A2UUJ73LF49DTH</td>\n",
       "      <td>Sabrina</td>\n",
       "      <td>2</td>\n",
       "      <td>2</td>\n",
       "      <td>positive</td>\n",
       "      <td>2012-02-12</td>\n",
       "      <td>Great Idea - Great Product</td>\n",
       "      <td>The idea of putting tomato paste in a tube was...</td>\n",
       "      <td>b'idea put tomato past tube inspir mani recip ...</td>\n",
       "    </tr>\n",
       "    <tr>\n",
       "      <th>1803</th>\n",
       "      <td>39894</td>\n",
       "      <td>43371</td>\n",
       "      <td>B0002DHNY6</td>\n",
       "      <td>AT66IKVKXSI46</td>\n",
       "      <td>Travis Greene</td>\n",
       "      <td>0</td>\n",
       "      <td>0</td>\n",
       "      <td>positive</td>\n",
       "      <td>2012-08-06</td>\n",
       "      <td>Excellent product</td>\n",
       "      <td>I have a boxer puppy and he has not torn this ...</td>\n",
       "      <td>b'boxer puppi torn toy think realli power chew...</td>\n",
       "    </tr>\n",
       "    <tr>\n",
       "      <th>16142</th>\n",
       "      <td>22028</td>\n",
       "      <td>24114</td>\n",
       "      <td>B0013NUGDE</td>\n",
       "      <td>AX668BUQRHI7C</td>\n",
       "      <td>stephie</td>\n",
       "      <td>0</td>\n",
       "      <td>0</td>\n",
       "      <td>positive</td>\n",
       "      <td>2008-12-16</td>\n",
       "      <td>These are delicious!</td>\n",
       "      <td>I love these Barbecue flavored Pop Chips. They...</td>\n",
       "      <td>b'love barbecu flavor pop chip theyr crunchi l...</td>\n",
       "    </tr>\n",
       "    <tr>\n",
       "      <th>43579</th>\n",
       "      <td>30812</td>\n",
       "      <td>33572</td>\n",
       "      <td>B006N3I84I</td>\n",
       "      <td>A30PL58FOYYMIJ</td>\n",
       "      <td>Serenity</td>\n",
       "      <td>0</td>\n",
       "      <td>0</td>\n",
       "      <td>positive</td>\n",
       "      <td>2011-11-04</td>\n",
       "      <td>Great buy</td>\n",
       "      <td>This is my absolute favorite coffee. When I se...</td>\n",
       "      <td>b'absolut favorit coffe see sale like alway or...</td>\n",
       "    </tr>\n",
       "    <tr>\n",
       "      <th>25161</th>\n",
       "      <td>31493</td>\n",
       "      <td>34290</td>\n",
       "      <td>B001P3NU30</td>\n",
       "      <td>A1BNK0ZY6JANZD</td>\n",
       "      <td>Logan Walters</td>\n",
       "      <td>1</td>\n",
       "      <td>2</td>\n",
       "      <td>positive</td>\n",
       "      <td>2011-04-23</td>\n",
       "      <td>Dental chews work great!</td>\n",
       "      <td>My 50lb, 1 year old dog loves these.  He gets ...</td>\n",
       "      <td>b'year old dog love get excit see bag choke is...</td>\n",
       "    </tr>\n",
       "    <tr>\n",
       "      <th>37856</th>\n",
       "      <td>33577</td>\n",
       "      <td>36532</td>\n",
       "      <td>B004CLCEDE</td>\n",
       "      <td>A1K3HKJ5QO08IU</td>\n",
       "      <td>Kevin T. Peterson</td>\n",
       "      <td>0</td>\n",
       "      <td>0</td>\n",
       "      <td>positive</td>\n",
       "      <td>2012-01-07</td>\n",
       "      <td>Miracle Noodle? Not quite but not bad...</td>\n",
       "      <td>Definitely is as slimy as people say. You defi...</td>\n",
       "      <td>b'definit slimi peopl say definit need wash th...</td>\n",
       "    </tr>\n",
       "    <tr>\n",
       "      <th>3407</th>\n",
       "      <td>23660</td>\n",
       "      <td>25877</td>\n",
       "      <td>B000BGZNXW</td>\n",
       "      <td>A1J1V7RZ3WWYFT</td>\n",
       "      <td>J. pierga</td>\n",
       "      <td>0</td>\n",
       "      <td>0</td>\n",
       "      <td>positive</td>\n",
       "      <td>2011-10-10</td>\n",
       "      <td>A+++ awesome pump</td>\n",
       "      <td>This pump makes it easy to have the coffee hou...</td>\n",
       "      <td>b'pump make easi coffe hous right home screw o...</td>\n",
       "    </tr>\n",
       "    <tr>\n",
       "      <th>45944</th>\n",
       "      <td>48472</td>\n",
       "      <td>52678</td>\n",
       "      <td>B0093A5XC8</td>\n",
       "      <td>A3MP1HX3I3BTLD</td>\n",
       "      <td>AwkwardSoul</td>\n",
       "      <td>0</td>\n",
       "      <td>0</td>\n",
       "      <td>positive</td>\n",
       "      <td>2012-10-03</td>\n",
       "      <td>Spicy tasty pumpkin pie tea!</td>\n",
       "      <td>Out of the package, this matcha smells strongl...</td>\n",
       "      <td>b'packag matcha smell strong like spici whole ...</td>\n",
       "    </tr>\n",
       "    <tr>\n",
       "      <th>14935</th>\n",
       "      <td>41801</td>\n",
       "      <td>45413</td>\n",
       "      <td>B0011MTYF8</td>\n",
       "      <td>AMW6E8E2P9Z8F</td>\n",
       "      <td>Krubis</td>\n",
       "      <td>0</td>\n",
       "      <td>0</td>\n",
       "      <td>positive</td>\n",
       "      <td>2012-07-20</td>\n",
       "      <td>Perfect for a hot day</td>\n",
       "      <td>Lots of great flavor options. Used at a birthd...</td>\n",
       "      <td>b'lot great flavor option use birthday parti g...</td>\n",
       "    </tr>\n",
       "    <tr>\n",
       "      <th>28031</th>\n",
       "      <td>27971</td>\n",
       "      <td>30502</td>\n",
       "      <td>B002CJCEHE</td>\n",
       "      <td>A3RQASA5R8XSIO</td>\n",
       "      <td>Leo Pierson</td>\n",
       "      <td>0</td>\n",
       "      <td>0</td>\n",
       "      <td>positive</td>\n",
       "      <td>2012-01-16</td>\n",
       "      <td>GREAT FOOD AND PRICE.</td>\n",
       "      <td>GREAT FOOD AND PRICE FOR THIS ITEM. THE INGRED...</td>\n",
       "      <td>b'great food price item ingredi pretti food to...</td>\n",
       "    </tr>\n",
       "    <tr>\n",
       "      <th>40874</th>\n",
       "      <td>1262</td>\n",
       "      <td>1364</td>\n",
       "      <td>B005151BV6</td>\n",
       "      <td>AUFES5GU717KT</td>\n",
       "      <td>L. LeRoy</td>\n",
       "      <td>0</td>\n",
       "      <td>0</td>\n",
       "      <td>positive</td>\n",
       "      <td>2011-11-25</td>\n",
       "      <td>tic tac solution</td>\n",
       "      <td>Since husband quit smoking many many yrs ago, ...</td>\n",
       "      <td>b'sinc husband quit smoke mani mani yrs ago to...</td>\n",
       "    </tr>\n",
       "    <tr>\n",
       "      <th>19808</th>\n",
       "      <td>45502</td>\n",
       "      <td>49512</td>\n",
       "      <td>B001E5E268</td>\n",
       "      <td>A3THJ7GQR0M37T</td>\n",
       "      <td>R. Higgins</td>\n",
       "      <td>0</td>\n",
       "      <td>3</td>\n",
       "      <td>positive</td>\n",
       "      <td>2009-03-26</td>\n",
       "      <td>Convenience of Auto Delivery</td>\n",
       "      <td>I find it very convenient to have some of my g...</td>\n",
       "      <td>b'find conveni groceri product automat deliv d...</td>\n",
       "    </tr>\n",
       "    <tr>\n",
       "      <th>39678</th>\n",
       "      <td>32289</td>\n",
       "      <td>35150</td>\n",
       "      <td>B004SKQ60Q</td>\n",
       "      <td>A39VNRG8P49QED</td>\n",
       "      <td>rooster_ranch</td>\n",
       "      <td>1</td>\n",
       "      <td>1</td>\n",
       "      <td>positive</td>\n",
       "      <td>2011-09-09</td>\n",
       "      <td>Healthy and Tasty</td>\n",
       "      <td>My 14 month daughter loves these, she's been e...</td>\n",
       "      <td>b'month daughter love shes eat sinc around mos...</td>\n",
       "    </tr>\n",
       "    <tr>\n",
       "      <th>18656</th>\n",
       "      <td>34974</td>\n",
       "      <td>38040</td>\n",
       "      <td>B001CCSETE</td>\n",
       "      <td>A19XFJEI4GBQSP</td>\n",
       "      <td>William J. Hartley</td>\n",
       "      <td>0</td>\n",
       "      <td>0</td>\n",
       "      <td>positive</td>\n",
       "      <td>2010-01-26</td>\n",
       "      <td>CHEAPER AT MARC'S DEPT. STORE PLUS NO S+H</td>\n",
       "      <td>RETAIL AND REG. PRICE'S ARE WAY OUT OF LINE.MA...</td>\n",
       "      <td>b'retail reg price way line marc dept store re...</td>\n",
       "    </tr>\n",
       "    <tr>\n",
       "      <th>21943</th>\n",
       "      <td>41520</td>\n",
       "      <td>45120</td>\n",
       "      <td>B001EQ5AK4</td>\n",
       "      <td>A1OESJEJ7HL4I1</td>\n",
       "      <td>Cheft</td>\n",
       "      <td>0</td>\n",
       "      <td>0</td>\n",
       "      <td>positive</td>\n",
       "      <td>2011-10-08</td>\n",
       "      <td>Marvelous maple syrup</td>\n",
       "      <td>Saturday brunch: whole wheat pancakes with fre...</td>\n",
       "      <td>b'saturday whole wheat pancak fresh organ fig ...</td>\n",
       "    </tr>\n",
       "    <tr>\n",
       "      <th>35510</th>\n",
       "      <td>43877</td>\n",
       "      <td>47754</td>\n",
       "      <td>B0040IWUKG</td>\n",
       "      <td>A2VMQZFB559D2U</td>\n",
       "      <td>Jaclyn's Amazon</td>\n",
       "      <td>1</td>\n",
       "      <td>1</td>\n",
       "      <td>positive</td>\n",
       "      <td>2012-08-11</td>\n",
       "      <td>Delicious and unique</td>\n",
       "      <td>I got these Oreos for my boyfriend and they we...</td>\n",
       "      <td>b'got oreo boyfriend delici chocol coat creami...</td>\n",
       "    </tr>\n",
       "    <tr>\n",
       "      <th>...</th>\n",
       "      <td>...</td>\n",
       "      <td>...</td>\n",
       "      <td>...</td>\n",
       "      <td>...</td>\n",
       "      <td>...</td>\n",
       "      <td>...</td>\n",
       "      <td>...</td>\n",
       "      <td>...</td>\n",
       "      <td>...</td>\n",
       "      <td>...</td>\n",
       "      <td>...</td>\n",
       "      <td>...</td>\n",
       "    </tr>\n",
       "    <tr>\n",
       "      <th>86</th>\n",
       "      <td>17929</td>\n",
       "      <td>19541</td>\n",
       "      <td>B000084ETV</td>\n",
       "      <td>A18IVUBRZDKY5S</td>\n",
       "      <td>Tracie Toy</td>\n",
       "      <td>0</td>\n",
       "      <td>0</td>\n",
       "      <td>negative</td>\n",
       "      <td>2009-05-17</td>\n",
       "      <td>don't buy this stuff</td>\n",
       "      <td>I have used this dog food for years.  About a ...</td>\n",
       "      <td>b'use dog food year year ago reduc size bag in...</td>\n",
       "    </tr>\n",
       "    <tr>\n",
       "      <th>39049</th>\n",
       "      <td>31321</td>\n",
       "      <td>34111</td>\n",
       "      <td>B004N8LMFM</td>\n",
       "      <td>A3TI652M8RH1XW</td>\n",
       "      <td>sara</td>\n",
       "      <td>0</td>\n",
       "      <td>4</td>\n",
       "      <td>negative</td>\n",
       "      <td>2012-06-12</td>\n",
       "      <td>too expensive</td>\n",
       "      <td>I used to eat these all the time when I was in...</td>\n",
       "      <td>b'use eat time japan didnt cost near much thou...</td>\n",
       "    </tr>\n",
       "    <tr>\n",
       "      <th>24059</th>\n",
       "      <td>6191</td>\n",
       "      <td>6723</td>\n",
       "      <td>B001LG945O</td>\n",
       "      <td>A1OI9O2S4UOB5O</td>\n",
       "      <td>JL \"J\"</td>\n",
       "      <td>2</td>\n",
       "      <td>2</td>\n",
       "      <td>negative</td>\n",
       "      <td>2009-08-23</td>\n",
       "      <td>Not the best Switch Flavor</td>\n",
       "      <td>I've become a fan of The Switch sodas. The bla...</td>\n",
       "      <td>b'ive becom fan switch soda black cherri flavo...</td>\n",
       "    </tr>\n",
       "    <tr>\n",
       "      <th>16382</th>\n",
       "      <td>11211</td>\n",
       "      <td>12217</td>\n",
       "      <td>B00141UC9I</td>\n",
       "      <td>A2LAR717J4XMT</td>\n",
       "      <td>B. Edwards</td>\n",
       "      <td>9</td>\n",
       "      <td>10</td>\n",
       "      <td>negative</td>\n",
       "      <td>2012-01-02</td>\n",
       "      <td>dogswell is now made in China!</td>\n",
       "      <td>&lt;a href=\"http://www.amazon.com/gp/product/B001...</td>\n",
       "      <td>b'dogswel happi hip dog chicken breast pouch p...</td>\n",
       "    </tr>\n",
       "    <tr>\n",
       "      <th>29724</th>\n",
       "      <td>19754</td>\n",
       "      <td>21514</td>\n",
       "      <td>B002QWP89S</td>\n",
       "      <td>A16EH1TRPC5IDD</td>\n",
       "      <td>Lesal</td>\n",
       "      <td>1</td>\n",
       "      <td>2</td>\n",
       "      <td>negative</td>\n",
       "      <td>2012-07-09</td>\n",
       "      <td>Greenies Treats</td>\n",
       "      <td>Not the best product for the price. I got thes...</td>\n",
       "      <td>b'best product price got dog plaqu problem hav...</td>\n",
       "    </tr>\n",
       "    <tr>\n",
       "      <th>22496</th>\n",
       "      <td>31588</td>\n",
       "      <td>34396</td>\n",
       "      <td>B001ET5XWG</td>\n",
       "      <td>A1NFXNWHXRN6IB</td>\n",
       "      <td>Pittsburgh Jill</td>\n",
       "      <td>14</td>\n",
       "      <td>15</td>\n",
       "      <td>negative</td>\n",
       "      <td>2007-01-17</td>\n",
       "      <td>Gray and Flavorless</td>\n",
       "      <td>I was so excited when I found this product in ...</td>\n",
       "      <td>b'excit found product local groceri store rece...</td>\n",
       "    </tr>\n",
       "    <tr>\n",
       "      <th>12478</th>\n",
       "      <td>15588</td>\n",
       "      <td>17046</td>\n",
       "      <td>B000PIQF8S</td>\n",
       "      <td>AMJONAHW0HQNT</td>\n",
       "      <td>Conley Porter \"portconley\"</td>\n",
       "      <td>0</td>\n",
       "      <td>5</td>\n",
       "      <td>negative</td>\n",
       "      <td>2009-05-27</td>\n",
       "      <td>Where's the Cheese?</td>\n",
       "      <td>I don't taste cheese - I taste an unidentifiab...</td>\n",
       "      <td>b'dont tast chees tast unidentifi chemic lot s...</td>\n",
       "    </tr>\n",
       "    <tr>\n",
       "      <th>23945</th>\n",
       "      <td>6135</td>\n",
       "      <td>6646</td>\n",
       "      <td>B001LG945O</td>\n",
       "      <td>AC6LV5D2RKTIR</td>\n",
       "      <td>Michigoon \"tech geek\"</td>\n",
       "      <td>0</td>\n",
       "      <td>0</td>\n",
       "      <td>negative</td>\n",
       "      <td>2009-06-25</td>\n",
       "      <td>Tastes like an energy drink</td>\n",
       "      <td>I was surprised at the ingredient list and \"10...</td>\n",
       "      <td>b'surpris ingredi list natur stamp side drink ...</td>\n",
       "    </tr>\n",
       "    <tr>\n",
       "      <th>14725</th>\n",
       "      <td>47658</td>\n",
       "      <td>51812</td>\n",
       "      <td>B000ZM34MO</td>\n",
       "      <td>A3H21TDT6133G3</td>\n",
       "      <td>G. Volkert</td>\n",
       "      <td>3</td>\n",
       "      <td>11</td>\n",
       "      <td>negative</td>\n",
       "      <td>2010-06-02</td>\n",
       "      <td>Strong taste</td>\n",
       "      <td>This has a very, very strong taste - almost li...</td>\n",
       "      <td>b'strong tast almost like licoric dont like pu...</td>\n",
       "    </tr>\n",
       "    <tr>\n",
       "      <th>42048</th>\n",
       "      <td>3013</td>\n",
       "      <td>3281</td>\n",
       "      <td>B005K4Q1VI</td>\n",
       "      <td>APTGM66PJRNGC</td>\n",
       "      <td>J. Slade</td>\n",
       "      <td>0</td>\n",
       "      <td>0</td>\n",
       "      <td>negative</td>\n",
       "      <td>2012-03-06</td>\n",
       "      <td>so so</td>\n",
       "      <td>very easy to use not the best flavor It has to...</td>\n",
       "      <td>b'easi use best flavor much sugar qualiti thou...</td>\n",
       "    </tr>\n",
       "    <tr>\n",
       "      <th>26749</th>\n",
       "      <td>27939</td>\n",
       "      <td>30468</td>\n",
       "      <td>B0026PENE6</td>\n",
       "      <td>A2T1AFT2CSDLC</td>\n",
       "      <td>Peter Product \"Your Average User\"</td>\n",
       "      <td>0</td>\n",
       "      <td>0</td>\n",
       "      <td>negative</td>\n",
       "      <td>2012-08-31</td>\n",
       "      <td>Bad</td>\n",
       "      <td>This is the worst chocolate I have ever had. I...</td>\n",
       "      <td>b'worst chocol ever tast like anyth chocol wei...</td>\n",
       "    </tr>\n",
       "    <tr>\n",
       "      <th>27247</th>\n",
       "      <td>41624</td>\n",
       "      <td>45229</td>\n",
       "      <td>B0029JZ6EA</td>\n",
       "      <td>A30835UIR6F8KB</td>\n",
       "      <td>Adam E. Smith</td>\n",
       "      <td>5</td>\n",
       "      <td>20</td>\n",
       "      <td>negative</td>\n",
       "      <td>2011-05-20</td>\n",
       "      <td>No details whatsoever</td>\n",
       "      <td>I am interested in buying this for personal us...</td>\n",
       "      <td>b'interest buy person use descript buy vintag ...</td>\n",
       "    </tr>\n",
       "    <tr>\n",
       "      <th>42053</th>\n",
       "      <td>3076</td>\n",
       "      <td>3350</td>\n",
       "      <td>B005K4Q1VI</td>\n",
       "      <td>A3BSPXD2A2UQ2T</td>\n",
       "      <td>Simply Me</td>\n",
       "      <td>0</td>\n",
       "      <td>0</td>\n",
       "      <td>negative</td>\n",
       "      <td>2012-01-16</td>\n",
       "      <td>Not good!</td>\n",
       "      <td>So bad, I returned it. My children didn't even...</td>\n",
       "      <td>b'bad return children didnt even like difficul...</td>\n",
       "    </tr>\n",
       "    <tr>\n",
       "      <th>31606</th>\n",
       "      <td>13367</td>\n",
       "      <td>14597</td>\n",
       "      <td>B0032BXUJM</td>\n",
       "      <td>A3RXM2OGVRJ9RB</td>\n",
       "      <td>englishteacher</td>\n",
       "      <td>7</td>\n",
       "      <td>9</td>\n",
       "      <td>negative</td>\n",
       "      <td>2011-07-17</td>\n",
       "      <td>Very disappointing!</td>\n",
       "      <td>Buy these k-cups only if you don't mind drinki...</td>\n",
       "      <td>b'buy dont mind drink coffe slick coffe ground...</td>\n",
       "    </tr>\n",
       "    <tr>\n",
       "      <th>39579</th>\n",
       "      <td>21400</td>\n",
       "      <td>23429</td>\n",
       "      <td>B004R8J8E0</td>\n",
       "      <td>A2AWVROFGSZU4E</td>\n",
       "      <td>My Fake Name</td>\n",
       "      <td>2</td>\n",
       "      <td>6</td>\n",
       "      <td>negative</td>\n",
       "      <td>2011-07-29</td>\n",
       "      <td>I don't HATE it</td>\n",
       "      <td>Last night I tried this product according to t...</td>\n",
       "      <td>b'last night tri product accord instruct oven ...</td>\n",
       "    </tr>\n",
       "    <tr>\n",
       "      <th>30933</th>\n",
       "      <td>5927</td>\n",
       "      <td>6418</td>\n",
       "      <td>B002YD0AFQ</td>\n",
       "      <td>A1ZEOJORCI4T9R</td>\n",
       "      <td>andyjmrod</td>\n",
       "      <td>2</td>\n",
       "      <td>2</td>\n",
       "      <td>negative</td>\n",
       "      <td>2011-12-11</td>\n",
       "      <td>Not like the good ole days</td>\n",
       "      <td>In Christmas, 2010 I first ordered Clayton Fru...</td>\n",
       "      <td>b'christma first order clayton fruit cake grea...</td>\n",
       "    </tr>\n",
       "    <tr>\n",
       "      <th>35676</th>\n",
       "      <td>42113</td>\n",
       "      <td>45793</td>\n",
       "      <td>B0041NYV8E</td>\n",
       "      <td>ARIZ8PY9ULPHH</td>\n",
       "      <td>Bonnie Jo Davis \"Loves to read and review books.\"</td>\n",
       "      <td>1</td>\n",
       "      <td>2</td>\n",
       "      <td>negative</td>\n",
       "      <td>2012-01-30</td>\n",
       "      <td>Smells and Tastes Awful!</td>\n",
       "      <td>I was looking forward to trying this drink bec...</td>\n",
       "      <td>b'look forward tri drink tea love ginger peach...</td>\n",
       "    </tr>\n",
       "    <tr>\n",
       "      <th>38013</th>\n",
       "      <td>33666</td>\n",
       "      <td>36627</td>\n",
       "      <td>B004CLCEDE</td>\n",
       "      <td>A3SITU7YHGD76X</td>\n",
       "      <td>Braveheart</td>\n",
       "      <td>1</td>\n",
       "      <td>5</td>\n",
       "      <td>negative</td>\n",
       "      <td>2011-11-23</td>\n",
       "      <td>Yuck!</td>\n",
       "      <td>Nowhere in the description of this product doe...</td>\n",
       "      <td>b'nowher descript product state unappet look m...</td>\n",
       "    </tr>\n",
       "    <tr>\n",
       "      <th>19190</th>\n",
       "      <td>43678</td>\n",
       "      <td>47535</td>\n",
       "      <td>B001E50TJC</td>\n",
       "      <td>AD24OMGURWPTN</td>\n",
       "      <td>Coffee Addict</td>\n",
       "      <td>1</td>\n",
       "      <td>2</td>\n",
       "      <td>negative</td>\n",
       "      <td>2010-04-02</td>\n",
       "      <td>Not very strong</td>\n",
       "      <td>This coffee is not very strong and I am surpri...</td>\n",
       "      <td>b'coffe strong surpris even call french roast ...</td>\n",
       "    </tr>\n",
       "    <tr>\n",
       "      <th>3250</th>\n",
       "      <td>34049</td>\n",
       "      <td>37051</td>\n",
       "      <td>B000ARTNRE</td>\n",
       "      <td>A29HGJ2DYIG6HD</td>\n",
       "      <td>Neckbox \"gfe324\"</td>\n",
       "      <td>0</td>\n",
       "      <td>2</td>\n",
       "      <td>negative</td>\n",
       "      <td>2012-07-25</td>\n",
       "      <td>SENT WRONG FORMULA</td>\n",
       "      <td>I ordered sensitive, the invoice said sensitiv...</td>\n",
       "      <td>b'order sensit invoic said sensit matter fact ...</td>\n",
       "    </tr>\n",
       "    <tr>\n",
       "      <th>34644</th>\n",
       "      <td>44989</td>\n",
       "      <td>48955</td>\n",
       "      <td>B003VXE46Y</td>\n",
       "      <td>A1VF9QUXQIA5JW</td>\n",
       "      <td>Tina Ruch \"gerber daisy lover\"</td>\n",
       "      <td>0</td>\n",
       "      <td>11</td>\n",
       "      <td>negative</td>\n",
       "      <td>2012-08-16</td>\n",
       "      <td>Totally Gross</td>\n",
       "      <td>I didn't realize that these seeds puff up and ...</td>\n",
       "      <td>b'didnt realiz seed puff becom gelatin slimi w...</td>\n",
       "    </tr>\n",
       "    <tr>\n",
       "      <th>44250</th>\n",
       "      <td>30632</td>\n",
       "      <td>33358</td>\n",
       "      <td>B007JFMH96</td>\n",
       "      <td>A3EZHMGGWY74HY</td>\n",
       "      <td>MommaMia</td>\n",
       "      <td>2</td>\n",
       "      <td>3</td>\n",
       "      <td>negative</td>\n",
       "      <td>2012-08-01</td>\n",
       "      <td>Gritty and dry cookies</td>\n",
       "      <td>I usually love Quaker products, but lately the...</td>\n",
       "      <td>b'usual love quaker product late two item ive ...</td>\n",
       "    </tr>\n",
       "    <tr>\n",
       "      <th>30544</th>\n",
       "      <td>12103</td>\n",
       "      <td>13204</td>\n",
       "      <td>B002TMV34E</td>\n",
       "      <td>A2PSD2R9A1CXG7</td>\n",
       "      <td>L. T. Beasimer \"www.LBphoto.net\"</td>\n",
       "      <td>1</td>\n",
       "      <td>2</td>\n",
       "      <td>negative</td>\n",
       "      <td>2010-06-27</td>\n",
       "      <td>I've Had Better Coffee in European Cafes: A Me...</td>\n",
       "      <td>We enjoy our morning coffee and, years ago, bo...</td>\n",
       "      <td>b'enjoy morn coffe year ago bought espresso ma...</td>\n",
       "    </tr>\n",
       "    <tr>\n",
       "      <th>28636</th>\n",
       "      <td>42767</td>\n",
       "      <td>46528</td>\n",
       "      <td>B002GJ9JWS</td>\n",
       "      <td>A1KYUOPBGQCLUF</td>\n",
       "      <td>B. Boyd \"Audio Freek\"</td>\n",
       "      <td>29</td>\n",
       "      <td>49</td>\n",
       "      <td>negative</td>\n",
       "      <td>2010-11-28</td>\n",
       "      <td>You removed what???</td>\n",
       "      <td>You want to remove the sugar from peanut butte...</td>\n",
       "      <td>b'want remov sugar peanut butter fat honest ta...</td>\n",
       "    </tr>\n",
       "    <tr>\n",
       "      <th>21873</th>\n",
       "      <td>41177</td>\n",
       "      <td>44758</td>\n",
       "      <td>B001EQ55RW</td>\n",
       "      <td>A37WVR9M1STQDU</td>\n",
       "      <td>J. Musto \"Toolman Joe\"</td>\n",
       "      <td>4</td>\n",
       "      <td>5</td>\n",
       "      <td>negative</td>\n",
       "      <td>2009-07-16</td>\n",
       "      <td>Beware - Artificial Sweeteners!</td>\n",
       "      <td>The nuts were very tasty and if you don't mind...</td>\n",
       "      <td>b'nut tasti dont mind artifici sweeten may exp...</td>\n",
       "    </tr>\n",
       "    <tr>\n",
       "      <th>36023</th>\n",
       "      <td>24041</td>\n",
       "      <td>26289</td>\n",
       "      <td>B00425BQWU</td>\n",
       "      <td>A3BUWPGBC82ZB</td>\n",
       "      <td>C. Bowers</td>\n",
       "      <td>0</td>\n",
       "      <td>0</td>\n",
       "      <td>negative</td>\n",
       "      <td>2011-09-21</td>\n",
       "      <td>Reduced to a chokable in 10 minutes</td>\n",
       "      <td>I got these for a 3 month old 4 lb Havanese pu...</td>\n",
       "      <td>b'got month old havanes puppi breeder given on...</td>\n",
       "    </tr>\n",
       "    <tr>\n",
       "      <th>17126</th>\n",
       "      <td>13779</td>\n",
       "      <td>15033</td>\n",
       "      <td>B0016KHBOG</td>\n",
       "      <td>A2O066LFZ7OWPG</td>\n",
       "      <td>Dariusz Serbjan \"Darek\"</td>\n",
       "      <td>0</td>\n",
       "      <td>0</td>\n",
       "      <td>negative</td>\n",
       "      <td>2012-04-07</td>\n",
       "      <td>Not worth your money</td>\n",
       "      <td>As hard as I tried I just couldn't smell that ...</td>\n",
       "      <td>b'hard tri couldnt smell french vanilla aroma ...</td>\n",
       "    </tr>\n",
       "    <tr>\n",
       "      <th>35801</th>\n",
       "      <td>41940</td>\n",
       "      <td>45572</td>\n",
       "      <td>B0041NYV8E</td>\n",
       "      <td>A1ZU55TM45Y2R8</td>\n",
       "      <td>J. Haggard</td>\n",
       "      <td>0</td>\n",
       "      <td>0</td>\n",
       "      <td>negative</td>\n",
       "      <td>2012-03-21</td>\n",
       "      <td>I like some ginger, but this was a bit much</td>\n",
       "      <td>I can handle some ginger, I'm fine with some t...</td>\n",
       "      <td>b'handl ginger fine tea combin bit much person...</td>\n",
       "    </tr>\n",
       "    <tr>\n",
       "      <th>14992</th>\n",
       "      <td>36002</td>\n",
       "      <td>39138</td>\n",
       "      <td>B0012271RA</td>\n",
       "      <td>A3OFZ4SBPNTEZM</td>\n",
       "      <td>Nona Taylor \"Nona Taylor\"</td>\n",
       "      <td>0</td>\n",
       "      <td>0</td>\n",
       "      <td>negative</td>\n",
       "      <td>2012-10-15</td>\n",
       "      <td>5 stars for cat food but 2 stars for human con...</td>\n",
       "      <td>I buy this for my cat.  I add vitamins &amp; vegie...</td>\n",
       "      <td>b'buy cat add vitamin vegi make wet cat food s...</td>\n",
       "    </tr>\n",
       "    <tr>\n",
       "      <th>37614</th>\n",
       "      <td>28805</td>\n",
       "      <td>31418</td>\n",
       "      <td>B0049Z7OWY</td>\n",
       "      <td>A17SEU37IANK2</td>\n",
       "      <td>Davido</td>\n",
       "      <td>3</td>\n",
       "      <td>4</td>\n",
       "      <td>negative</td>\n",
       "      <td>2010-07-26</td>\n",
       "      <td>$4.95 a pack?!!!!!</td>\n",
       "      <td>Carefull!  Although the picture shows a BOX of...</td>\n",
       "      <td>b'careful although pictur show box gum per pac...</td>\n",
       "    </tr>\n",
       "  </tbody>\n",
       "</table>\n",
       "<p>10000 rows × 12 columns</p>\n",
       "</div>"
      ],
      "text/plain": [
       "       index     Id   ProductId          UserId  \\\n",
       "8473   32469  35339  B000GW46D4  A2ZSK8NC6PX0ZY   \n",
       "16748  45229  49203  B0015UX574  A1W31VOK4DT8P0   \n",
       "12516   2630   2867  B000PSFKE8   AN5GCKW0I6028   \n",
       "31030  42460  46197  B002ZF5QZC   A3D165TX35GR0   \n",
       "10858  37514  40749  B000LKYYBU  A1DSI0B2N07GKI   \n",
       "25834  43878  47755  B001SAU16Y  A18ZEMA7Y1HPMN   \n",
       "43576  30727  33477  B006N3I84I  A1JFJ36XNBA4C0   \n",
       "27810  20640  22550  B002BCE9JS   AMRCPHH1DOSLH   \n",
       "6067   39032  42377  B000F0FX52  A365IPND6FFKQR   \n",
       "17820   7450   8134  B0019GVYR2  A2YUBHRV4DBRLF   \n",
       "43489  30743  33494  B006N3I84I   ALDCYI1NWWWKL   \n",
       "2677   48718  52932  B0007A8XV6   A37OEAOYVLKYC   \n",
       "27828   2766   3009  B002BERULK  A3FZIF4QSGUS3T   \n",
       "29054  37465  40697  B002KP5JY0  A136624NBO0KT0   \n",
       "2189   41707  45317  B0005XN9HI  A2UUJ73LF49DTH   \n",
       "1803   39894  43371  B0002DHNY6   AT66IKVKXSI46   \n",
       "16142  22028  24114  B0013NUGDE   AX668BUQRHI7C   \n",
       "43579  30812  33572  B006N3I84I  A30PL58FOYYMIJ   \n",
       "25161  31493  34290  B001P3NU30  A1BNK0ZY6JANZD   \n",
       "37856  33577  36532  B004CLCEDE  A1K3HKJ5QO08IU   \n",
       "3407   23660  25877  B000BGZNXW  A1J1V7RZ3WWYFT   \n",
       "45944  48472  52678  B0093A5XC8  A3MP1HX3I3BTLD   \n",
       "14935  41801  45413  B0011MTYF8   AMW6E8E2P9Z8F   \n",
       "28031  27971  30502  B002CJCEHE  A3RQASA5R8XSIO   \n",
       "40874   1262   1364  B005151BV6   AUFES5GU717KT   \n",
       "19808  45502  49512  B001E5E268  A3THJ7GQR0M37T   \n",
       "39678  32289  35150  B004SKQ60Q  A39VNRG8P49QED   \n",
       "18656  34974  38040  B001CCSETE  A19XFJEI4GBQSP   \n",
       "21943  41520  45120  B001EQ5AK4  A1OESJEJ7HL4I1   \n",
       "35510  43877  47754  B0040IWUKG  A2VMQZFB559D2U   \n",
       "...      ...    ...         ...             ...   \n",
       "86     17929  19541  B000084ETV  A18IVUBRZDKY5S   \n",
       "39049  31321  34111  B004N8LMFM  A3TI652M8RH1XW   \n",
       "24059   6191   6723  B001LG945O  A1OI9O2S4UOB5O   \n",
       "16382  11211  12217  B00141UC9I   A2LAR717J4XMT   \n",
       "29724  19754  21514  B002QWP89S  A16EH1TRPC5IDD   \n",
       "22496  31588  34396  B001ET5XWG  A1NFXNWHXRN6IB   \n",
       "12478  15588  17046  B000PIQF8S   AMJONAHW0HQNT   \n",
       "23945   6135   6646  B001LG945O   AC6LV5D2RKTIR   \n",
       "14725  47658  51812  B000ZM34MO  A3H21TDT6133G3   \n",
       "42048   3013   3281  B005K4Q1VI   APTGM66PJRNGC   \n",
       "26749  27939  30468  B0026PENE6   A2T1AFT2CSDLC   \n",
       "27247  41624  45229  B0029JZ6EA  A30835UIR6F8KB   \n",
       "42053   3076   3350  B005K4Q1VI  A3BSPXD2A2UQ2T   \n",
       "31606  13367  14597  B0032BXUJM  A3RXM2OGVRJ9RB   \n",
       "39579  21400  23429  B004R8J8E0  A2AWVROFGSZU4E   \n",
       "30933   5927   6418  B002YD0AFQ  A1ZEOJORCI4T9R   \n",
       "35676  42113  45793  B0041NYV8E   ARIZ8PY9ULPHH   \n",
       "38013  33666  36627  B004CLCEDE  A3SITU7YHGD76X   \n",
       "19190  43678  47535  B001E50TJC   AD24OMGURWPTN   \n",
       "3250   34049  37051  B000ARTNRE  A29HGJ2DYIG6HD   \n",
       "34644  44989  48955  B003VXE46Y  A1VF9QUXQIA5JW   \n",
       "44250  30632  33358  B007JFMH96  A3EZHMGGWY74HY   \n",
       "30544  12103  13204  B002TMV34E  A2PSD2R9A1CXG7   \n",
       "28636  42767  46528  B002GJ9JWS  A1KYUOPBGQCLUF   \n",
       "21873  41177  44758  B001EQ55RW  A37WVR9M1STQDU   \n",
       "36023  24041  26289  B00425BQWU   A3BUWPGBC82ZB   \n",
       "17126  13779  15033  B0016KHBOG  A2O066LFZ7OWPG   \n",
       "35801  41940  45572  B0041NYV8E  A1ZU55TM45Y2R8   \n",
       "14992  36002  39138  B0012271RA  A3OFZ4SBPNTEZM   \n",
       "37614  28805  31418  B0049Z7OWY   A17SEU37IANK2   \n",
       "\n",
       "                                             ProfileName  \\\n",
       "8473                        Donald G. Dassel \"Donald347\"   \n",
       "16748                                              MattK   \n",
       "12516                               Melissa \"Ringbearer\"   \n",
       "31030                                       S. Macnicoll   \n",
       "10858                          Arius Cayne \"Arius Cayne\"   \n",
       "25834                                         Hope Fairy   \n",
       "43576                                             Maxell   \n",
       "27810                                           B. Boley   \n",
       "6067                                             big bob   \n",
       "17820                                            big fan   \n",
       "43489                           Jason Hebert \"TexasGolf\"   \n",
       "2677                                  Lisa (Hartford CT)   \n",
       "27828                                 Aggie \"girlfriend\"   \n",
       "29054                                             nicsin   \n",
       "2189                                             Sabrina   \n",
       "1803                                       Travis Greene   \n",
       "16142                                            stephie   \n",
       "43579                                           Serenity   \n",
       "25161                                      Logan Walters   \n",
       "37856                                  Kevin T. Peterson   \n",
       "3407                                           J. pierga   \n",
       "45944                                        AwkwardSoul   \n",
       "14935                                             Krubis   \n",
       "28031                                        Leo Pierson   \n",
       "40874                                           L. LeRoy   \n",
       "19808                                         R. Higgins   \n",
       "39678                                      rooster_ranch   \n",
       "18656                                 William J. Hartley   \n",
       "21943                                              Cheft   \n",
       "35510                                    Jaclyn's Amazon   \n",
       "...                                                  ...   \n",
       "86                                            Tracie Toy   \n",
       "39049                                               sara   \n",
       "24059                                             JL \"J\"   \n",
       "16382                                         B. Edwards   \n",
       "29724                                              Lesal   \n",
       "22496                                    Pittsburgh Jill   \n",
       "12478                         Conley Porter \"portconley\"   \n",
       "23945                              Michigoon \"tech geek\"   \n",
       "14725                                         G. Volkert   \n",
       "42048                                           J. Slade   \n",
       "26749                  Peter Product \"Your Average User\"   \n",
       "27247                                      Adam E. Smith   \n",
       "42053                                          Simply Me   \n",
       "31606                                     englishteacher   \n",
       "39579                                       My Fake Name   \n",
       "30933                                          andyjmrod   \n",
       "35676  Bonnie Jo Davis \"Loves to read and review books.\"   \n",
       "38013                                         Braveheart   \n",
       "19190                                      Coffee Addict   \n",
       "3250                                    Neckbox \"gfe324\"   \n",
       "34644                     Tina Ruch \"gerber daisy lover\"   \n",
       "44250                                           MommaMia   \n",
       "30544                   L. T. Beasimer \"www.LBphoto.net\"   \n",
       "28636                              B. Boyd \"Audio Freek\"   \n",
       "21873                             J. Musto \"Toolman Joe\"   \n",
       "36023                                          C. Bowers   \n",
       "17126                            Dariusz Serbjan \"Darek\"   \n",
       "35801                                         J. Haggard   \n",
       "14992                          Nona Taylor \"Nona Taylor\"   \n",
       "37614                                             Davido   \n",
       "\n",
       "       HelpfulnessNumerator  HelpfulnessDenominator     Score       Time  \\\n",
       "8473                      3                       3  positive 2009-12-06   \n",
       "16748                     0                       0  positive 2012-05-31   \n",
       "12516                     2                       2  positive 2011-12-31   \n",
       "31030                     2                       2  positive 2010-08-02   \n",
       "10858                     1                       1  positive 2011-09-02   \n",
       "25834                     0                       0  positive 2010-05-11   \n",
       "43576                     0                       0  positive 2010-09-28   \n",
       "27810                     0                       0  positive 2011-09-21   \n",
       "6067                      2                       2  positive 2011-08-14   \n",
       "17820                     2                       2  positive 2011-10-27   \n",
       "43489                     0                       1  positive 2011-03-19   \n",
       "2677                      0                       1  positive 2008-10-04   \n",
       "27828                     2                       2  positive 2011-12-11   \n",
       "29054                     0                       0  positive 2009-11-06   \n",
       "2189                      2                       2  positive 2012-02-12   \n",
       "1803                      0                       0  positive 2012-08-06   \n",
       "16142                     0                       0  positive 2008-12-16   \n",
       "43579                     0                       0  positive 2011-11-04   \n",
       "25161                     1                       2  positive 2011-04-23   \n",
       "37856                     0                       0  positive 2012-01-07   \n",
       "3407                      0                       0  positive 2011-10-10   \n",
       "45944                     0                       0  positive 2012-10-03   \n",
       "14935                     0                       0  positive 2012-07-20   \n",
       "28031                     0                       0  positive 2012-01-16   \n",
       "40874                     0                       0  positive 2011-11-25   \n",
       "19808                     0                       3  positive 2009-03-26   \n",
       "39678                     1                       1  positive 2011-09-09   \n",
       "18656                     0                       0  positive 2010-01-26   \n",
       "21943                     0                       0  positive 2011-10-08   \n",
       "35510                     1                       1  positive 2012-08-11   \n",
       "...                     ...                     ...       ...        ...   \n",
       "86                        0                       0  negative 2009-05-17   \n",
       "39049                     0                       4  negative 2012-06-12   \n",
       "24059                     2                       2  negative 2009-08-23   \n",
       "16382                     9                      10  negative 2012-01-02   \n",
       "29724                     1                       2  negative 2012-07-09   \n",
       "22496                    14                      15  negative 2007-01-17   \n",
       "12478                     0                       5  negative 2009-05-27   \n",
       "23945                     0                       0  negative 2009-06-25   \n",
       "14725                     3                      11  negative 2010-06-02   \n",
       "42048                     0                       0  negative 2012-03-06   \n",
       "26749                     0                       0  negative 2012-08-31   \n",
       "27247                     5                      20  negative 2011-05-20   \n",
       "42053                     0                       0  negative 2012-01-16   \n",
       "31606                     7                       9  negative 2011-07-17   \n",
       "39579                     2                       6  negative 2011-07-29   \n",
       "30933                     2                       2  negative 2011-12-11   \n",
       "35676                     1                       2  negative 2012-01-30   \n",
       "38013                     1                       5  negative 2011-11-23   \n",
       "19190                     1                       2  negative 2010-04-02   \n",
       "3250                      0                       2  negative 2012-07-25   \n",
       "34644                     0                      11  negative 2012-08-16   \n",
       "44250                     2                       3  negative 2012-08-01   \n",
       "30544                     1                       2  negative 2010-06-27   \n",
       "28636                    29                      49  negative 2010-11-28   \n",
       "21873                     4                       5  negative 2009-07-16   \n",
       "36023                     0                       0  negative 2011-09-21   \n",
       "17126                     0                       0  negative 2012-04-07   \n",
       "35801                     0                       0  negative 2012-03-21   \n",
       "14992                     0                       0  negative 2012-10-15   \n",
       "37614                     3                       4  negative 2010-07-26   \n",
       "\n",
       "                                                 Summary  \\\n",
       "8473                           Excellent Protein Quatity   \n",
       "16748                                 Gustaf's wine gums   \n",
       "12516                            My Sheltie Adores Them!   \n",
       "31030                         Good bones at a good price   \n",
       "10858                           Hot Damn, This Is GREAT!   \n",
       "25834                                         Delicious!   \n",
       "43576                                    Excellent taste   \n",
       "27810                             A delicious quick meal   \n",
       "6067                                     would recommend   \n",
       "17820                        fast shipping, great price.   \n",
       "43489                                 Love Italian Roast   \n",
       "2677                                       Great product   \n",
       "27828                                    Jarred Paradise   \n",
       "29054                              Good Source Of Energy   \n",
       "2189                          Great Idea - Great Product   \n",
       "1803                                   Excellent product   \n",
       "16142                               These are delicious!   \n",
       "43579                                          Great buy   \n",
       "25161                           Dental chews work great!   \n",
       "37856           Miracle Noodle? Not quite but not bad...   \n",
       "3407                                   A+++ awesome pump   \n",
       "45944                       Spicy tasty pumpkin pie tea!   \n",
       "14935                              Perfect for a hot day   \n",
       "28031                              GREAT FOOD AND PRICE.   \n",
       "40874                                   tic tac solution   \n",
       "19808                       Convenience of Auto Delivery   \n",
       "39678                                  Healthy and Tasty   \n",
       "18656          CHEAPER AT MARC'S DEPT. STORE PLUS NO S+H   \n",
       "21943                              Marvelous maple syrup   \n",
       "35510                               Delicious and unique   \n",
       "...                                                  ...   \n",
       "86                                  don't buy this stuff   \n",
       "39049                                      too expensive   \n",
       "24059                         Not the best Switch Flavor   \n",
       "16382                     dogswell is now made in China!   \n",
       "29724                                    Greenies Treats   \n",
       "22496                                Gray and Flavorless   \n",
       "12478                                Where's the Cheese?   \n",
       "23945                        Tastes like an energy drink   \n",
       "14725                                       Strong taste   \n",
       "42048                                              so so   \n",
       "26749                                                Bad   \n",
       "27247                              No details whatsoever   \n",
       "42053                                          Not good!   \n",
       "31606                                Very disappointing!   \n",
       "39579                                    I don't HATE it   \n",
       "30933                         Not like the good ole days   \n",
       "35676                           Smells and Tastes Awful!   \n",
       "38013                                              Yuck!   \n",
       "19190                                    Not very strong   \n",
       "3250                                  SENT WRONG FORMULA   \n",
       "34644                                      Totally Gross   \n",
       "44250                             Gritty and dry cookies   \n",
       "30544  I've Had Better Coffee in European Cafes: A Me...   \n",
       "28636                                You removed what???   \n",
       "21873                    Beware - Artificial Sweeteners!   \n",
       "36023                Reduced to a chokable in 10 minutes   \n",
       "17126                               Not worth your money   \n",
       "35801        I like some ginger, but this was a bit much   \n",
       "14992  5 stars for cat food but 2 stars for human con...   \n",
       "37614                                 $4.95 a pack?!!!!!   \n",
       "\n",
       "                                                    Text  \\\n",
       "8473   I find the Jack Links Teriyaki Beef Steaks exc...   \n",
       "16748  Gustaf's wine gums are very good. Maynards win...   \n",
       "12516  These are a great snack for any dog who has fo...   \n",
       "31030  You get LOTS of bones at a very good price. Yo...   \n",
       "10858  I pondered buying this product for days becaus...   \n",
       "25834  This stuff is so delicious! It is hard to beli...   \n",
       "43576  We have a lot of different flavors at my offic...   \n",
       "27810  I enjoyed this soup. Yes we would all like fre...   \n",
       "6067   three main complaints, otherwise happy. The pl...   \n",
       "17820  I got this product for consumption, I took som...   \n",
       "43489  As someone who likes coffee black at Starbucks...   \n",
       "2677   All the david rio chai's are good.  This one h...   \n",
       "27828  Amazing! My roommate brought this home because...   \n",
       "29054  This is the second set I bought I take it in t...   \n",
       "2189   The idea of putting tomato paste in a tube was...   \n",
       "1803   I have a boxer puppy and he has not torn this ...   \n",
       "16142  I love these Barbecue flavored Pop Chips. They...   \n",
       "43579  This is my absolute favorite coffee. When I se...   \n",
       "25161  My 50lb, 1 year old dog loves these.  He gets ...   \n",
       "37856  Definitely is as slimy as people say. You defi...   \n",
       "3407   This pump makes it easy to have the coffee hou...   \n",
       "45944  Out of the package, this matcha smells strongl...   \n",
       "14935  Lots of great flavor options. Used at a birthd...   \n",
       "28031  GREAT FOOD AND PRICE FOR THIS ITEM. THE INGRED...   \n",
       "40874  Since husband quit smoking many many yrs ago, ...   \n",
       "19808  I find it very convenient to have some of my g...   \n",
       "39678  My 14 month daughter loves these, she's been e...   \n",
       "18656  RETAIL AND REG. PRICE'S ARE WAY OUT OF LINE.MA...   \n",
       "21943  Saturday brunch: whole wheat pancakes with fre...   \n",
       "35510  I got these Oreos for my boyfriend and they we...   \n",
       "...                                                  ...   \n",
       "86     I have used this dog food for years.  About a ...   \n",
       "39049  I used to eat these all the time when I was in...   \n",
       "24059  I've become a fan of The Switch sodas. The bla...   \n",
       "16382  <a href=\"http://www.amazon.com/gp/product/B001...   \n",
       "29724  Not the best product for the price. I got thes...   \n",
       "22496  I was so excited when I found this product in ...   \n",
       "12478  I don't taste cheese - I taste an unidentifiab...   \n",
       "23945  I was surprised at the ingredient list and \"10...   \n",
       "14725  This has a very, very strong taste - almost li...   \n",
       "42048  very easy to use not the best flavor It has to...   \n",
       "26749  This is the worst chocolate I have ever had. I...   \n",
       "27247  I am interested in buying this for personal us...   \n",
       "42053  So bad, I returned it. My children didn't even...   \n",
       "31606  Buy these k-cups only if you don't mind drinki...   \n",
       "39579  Last night I tried this product according to t...   \n",
       "30933  In Christmas, 2010 I first ordered Clayton Fru...   \n",
       "35676  I was looking forward to trying this drink bec...   \n",
       "38013  Nowhere in the description of this product doe...   \n",
       "19190  This coffee is not very strong and I am surpri...   \n",
       "3250   I ordered sensitive, the invoice said sensitiv...   \n",
       "34644  I didn't realize that these seeds puff up and ...   \n",
       "44250  I usually love Quaker products, but lately the...   \n",
       "30544  We enjoy our morning coffee and, years ago, bo...   \n",
       "28636  You want to remove the sugar from peanut butte...   \n",
       "21873  The nuts were very tasty and if you don't mind...   \n",
       "36023  I got these for a 3 month old 4 lb Havanese pu...   \n",
       "17126  As hard as I tried I just couldn't smell that ...   \n",
       "35801  I can handle some ginger, I'm fine with some t...   \n",
       "14992  I buy this for my cat.  I add vitamins & vegie...   \n",
       "37614  Carefull!  Although the picture shows a BOX of...   \n",
       "\n",
       "                                             CleanedText  \n",
       "8473   b'find jack link teriyaki beef steak excel tas...  \n",
       "16748  b'gustaf wine gum good maynard wine gum choic ...  \n",
       "12516  b'great snack dog food allergi chicken pound s...  \n",
       "31030  b'get lot bone good price cant beat supermarke...  \n",
       "10858  b'ponder buy product day mix review mani conce...  \n",
       "25834  b'stuff delici hard believ sugar free would re...  \n",
       "43576  b'lot differ flavor offic lucki tri purchas ho...  \n",
       "27810  b'enjoy soup yes would like fresh pho soup are...  \n",
       "6067   b'three main complaint otherwis happi plastic ...  \n",
       "17820  b'got product consumpt took store bought bake ...  \n",
       "43489  b'someon like coffe black starbuck love americ...  \n",
       "2677   b'david rio chai good one great flavor decaf c...  \n",
       "27828  b'amaz roommat brought home sale first gave sh...  \n",
       "29054  b'second set bought take morn energi need day ...  \n",
       "2189   b'idea put tomato past tube inspir mani recip ...  \n",
       "1803   b'boxer puppi torn toy think realli power chew...  \n",
       "16142  b'love barbecu flavor pop chip theyr crunchi l...  \n",
       "43579  b'absolut favorit coffe see sale like alway or...  \n",
       "25161  b'year old dog love get excit see bag choke is...  \n",
       "37856  b'definit slimi peopl say definit need wash th...  \n",
       "3407   b'pump make easi coffe hous right home screw o...  \n",
       "45944  b'packag matcha smell strong like spici whole ...  \n",
       "14935  b'lot great flavor option use birthday parti g...  \n",
       "28031  b'great food price item ingredi pretti food to...  \n",
       "40874  b'sinc husband quit smoke mani mani yrs ago to...  \n",
       "19808  b'find conveni groceri product automat deliv d...  \n",
       "39678  b'month daughter love shes eat sinc around mos...  \n",
       "18656  b'retail reg price way line marc dept store re...  \n",
       "21943  b'saturday whole wheat pancak fresh organ fig ...  \n",
       "35510  b'got oreo boyfriend delici chocol coat creami...  \n",
       "...                                                  ...  \n",
       "86     b'use dog food year year ago reduc size bag in...  \n",
       "39049  b'use eat time japan didnt cost near much thou...  \n",
       "24059  b'ive becom fan switch soda black cherri flavo...  \n",
       "16382  b'dogswel happi hip dog chicken breast pouch p...  \n",
       "29724  b'best product price got dog plaqu problem hav...  \n",
       "22496  b'excit found product local groceri store rece...  \n",
       "12478  b'dont tast chees tast unidentifi chemic lot s...  \n",
       "23945  b'surpris ingredi list natur stamp side drink ...  \n",
       "14725  b'strong tast almost like licoric dont like pu...  \n",
       "42048  b'easi use best flavor much sugar qualiti thou...  \n",
       "26749  b'worst chocol ever tast like anyth chocol wei...  \n",
       "27247  b'interest buy person use descript buy vintag ...  \n",
       "42053  b'bad return children didnt even like difficul...  \n",
       "31606  b'buy dont mind drink coffe slick coffe ground...  \n",
       "39579  b'last night tri product accord instruct oven ...  \n",
       "30933  b'christma first order clayton fruit cake grea...  \n",
       "35676  b'look forward tri drink tea love ginger peach...  \n",
       "38013  b'nowher descript product state unappet look m...  \n",
       "19190  b'coffe strong surpris even call french roast ...  \n",
       "3250   b'order sensit invoic said sensit matter fact ...  \n",
       "34644  b'didnt realiz seed puff becom gelatin slimi w...  \n",
       "44250  b'usual love quaker product late two item ive ...  \n",
       "30544  b'enjoy morn coffe year ago bought espresso ma...  \n",
       "28636  b'want remov sugar peanut butter fat honest ta...  \n",
       "21873  b'nut tasti dont mind artifici sweeten may exp...  \n",
       "36023  b'got month old havanes puppi breeder given on...  \n",
       "17126  b'hard tri couldnt smell french vanilla aroma ...  \n",
       "35801  b'handl ginger fine tea combin bit much person...  \n",
       "14992  b'buy cat add vitamin vegi make wet cat food s...  \n",
       "37614  b'careful although pictur show box gum per pac...  \n",
       "\n",
       "[10000 rows x 12 columns]"
      ]
     },
     "execution_count": 74,
     "metadata": {},
     "output_type": "execute_result"
    }
   ],
   "source": [
    "# Sorting data based on time\n",
    "# convert time into understnad time\n",
    "final_data['Time'] = pd.to_datetime(final_data['Time'], unit = 's')\n",
    "final_data"
   ]
  },
  {
   "cell_type": "code",
   "execution_count": 75,
   "metadata": {},
   "outputs": [],
   "source": [
    "final_data = final_data.sort_values(by='Time')"
   ]
  },
  {
   "cell_type": "code",
   "execution_count": 85,
   "metadata": {},
   "outputs": [],
   "source": [
    " #Fuction to compute k value\n",
    "    \n",
    "import numpy as np\n",
    "import pandas as pd\n",
    "import sqlite3\n",
    "import matplotlib.pyplot as plt\n",
    "#from sklearn.cross_validation import train_test_split\n",
    "from sklearn.neighbors import KNeighborsClassifier\n",
    "from sklearn.metrics import accuracy_score\n",
    "from sklearn.model_selection import train_test_split\n",
    "#from sklearn.model_selection import cross_val_score\n",
    "from collections import Counter\n",
    "from sklearn.metrics import accuracy_score\n",
    "from sklearn import model_selection\n",
    "from sklearn.model_selection import KFold\n",
    "from statistics import mean\n",
    "def k_classifier_brute(X_train, y_train):\n",
    "    \n",
    "    # creating odd list of K for KNN\n",
    "    myList = list(range(0,50))\n",
    "    neighbors = list(filter(lambda x: x % 2 != 0, myList))\n",
    "\n",
    "    # empty list that will hold cv scores\n",
    "    cv_scores = []\n",
    "\n",
    "    # perform 10-fold cross validation\n",
    "    for k in neighbors:\n",
    "        kf = KFold(n_splits=10)\n",
    "        kf.get_n_splits(X_train)\n",
    "        acc1 = 0\n",
    "        for train_index, test_index in kf.split(X_train):\n",
    "            Xfold_train, Xfold_test = X_train[train_index], X_train[test_index]\n",
    "            yfold_train, yfold_test = y_train[train_index], y_train[test_index]\n",
    "            knn = KNeighborsClassifier(n_neighbors=k)\n",
    "            knn.fit(Xfold_train, yfold_train)\n",
    "            pred = knn.predict(Xfold_test)\n",
    "            acc1 += accuracy_score(yfold_test, pred, normalize=True)\n",
    "            \n",
    "        average = acc1/10\n",
    "\n",
    "        cv_scores.append(average)\n",
    "\n",
    "\n",
    "    # changing to misclassification error\n",
    "    MSE = [1 - x for x in cv_scores]\n",
    "\n",
    "    # determining best k\n",
    "    optimal_k = neighbors[MSE.index(min(MSE))]\n",
    "    print('\\nThe optimal number of neighbors is %d.' % optimal_k)\n",
    "\n",
    "    # plot misclassification error vs k \n",
    "    plt.plot(neighbors, MSE)\n",
    "\n",
    "    for xy in zip(neighbors, np.round(MSE,3)):\n",
    "        plt.annotate('(%s, %s)' % xy, xy=xy, textcoords='data')\n",
    "    plt.title(\"Misclassification Error vs K\")\n",
    "    plt.xlabel('Number of Neighbors K')\n",
    "    plt.ylabel('Misclassification Error')\n",
    "    plt.show()\n",
    "\n",
    "    print(\"the misclassification error for each k value is : \", np.round(MSE,3))\n",
    "    return optimal_k"
   ]
  },
  {
   "cell_type": "code",
   "execution_count": 86,
   "metadata": {},
   "outputs": [
    {
     "name": "stdout",
     "output_type": "stream",
     "text": [
      "shape of X: (10000,)\n"
     ]
    }
   ],
   "source": [
    "X = final_data['CleanedText']\n",
    "print('shape of X:', X.shape)"
   ]
  },
  {
   "cell_type": "code",
   "execution_count": 87,
   "metadata": {},
   "outputs": [
    {
     "name": "stdout",
     "output_type": "stream",
     "text": [
      "shape of y: (10000,)\n"
     ]
    }
   ],
   "source": [
    "# class label\n",
    "y = final_data[\"Score\"]\n",
    "print('shape of y:', y.shape)\n"
   ]
  },
  {
   "cell_type": "code",
   "execution_count": 88,
   "metadata": {},
   "outputs": [
    {
     "name": "stdout",
     "output_type": "stream",
     "text": [
      "(7000,) (7000,) (3000,)\n"
     ]
    }
   ],
   "source": [
    "# split data into train and test where 70% data used to train model and 30% for test\n",
    "# final_data[:int(len(final_data) * 0.75)], final_data[int(len(final_data) * 0.75):]\n",
    "from sklearn.model_selection import train_test_split\n",
    "X_train, x_test, y_train, y_test = train_test_split(X, y, test_size = 0.3, random_state = 42)\n",
    "print(X_train.shape, y_train.shape, x_test.shape)\n",
    "X_train = np.nan_to_num(X_train)\n",
    "y_train = np.nan_to_num(y_train)\n",
    "x_test = np.nan_to_num(x_test)\n",
    "y_test = np.nan_to_num(y_test)"
   ]
  },
  {
   "cell_type": "code",
   "execution_count": 89,
   "metadata": {},
   "outputs": [
    {
     "data": {
      "text/plain": [
       "<7000x10438 sparse matrix of type '<class 'numpy.int64'>'\n",
       "\twith 230426 stored elements in Compressed Sparse Row format>"
      ]
     },
     "execution_count": 89,
     "metadata": {},
     "output_type": "execute_result"
    }
   ],
   "source": [
    "# Train Vectorizor\n",
    "from sklearn.feature_extraction.text import CountVectorizer \n",
    "\n",
    "bow = CountVectorizer()\n",
    "X_train = bow.fit_transform(X_train)\n",
    "X_train\n",
    "\n"
   ]
  },
  {
   "cell_type": "code",
   "execution_count": 90,
   "metadata": {},
   "outputs": [
    {
     "data": {
      "text/plain": [
       "<3000x10438 sparse matrix of type '<class 'numpy.int64'>'\n",
       "\twith 96121 stored elements in Compressed Sparse Row format>"
      ]
     },
     "execution_count": 90,
     "metadata": {},
     "output_type": "execute_result"
    }
   ],
   "source": [
    "# Test Vectorizor\n",
    "\n",
    "x_test = bow.transform(x_test)\n",
    "x_test\n",
    "\n",
    "\n"
   ]
  },
  {
   "cell_type": "code",
   "execution_count": 91,
   "metadata": {},
   "outputs": [
    {
     "data": {
      "text/plain": [
       "(3000, 10438)"
      ]
     },
     "execution_count": 91,
     "metadata": {},
     "output_type": "execute_result"
    }
   ],
   "source": [
    "x_test.shape"
   ]
  },
  {
   "cell_type": "code",
   "execution_count": 92,
   "metadata": {},
   "outputs": [
    {
     "name": "stdout",
     "output_type": "stream",
     "text": [
      "\n",
      "The optimal number of neighbors is 29.\n"
     ]
    },
    {
     "data": {
      "image/png": "[encoded data removed]",
      "text/plain": [
       "<Figure size 432x288 with 1 Axes>"
      ]
     },
     "metadata": {
      "needs_background": "light"
     },
     "output_type": "display_data"
    },
    {
     "name": "stdout",
     "output_type": "stream",
     "text": [
      "the misclassification error for each k value is :  [0.344 0.355 0.345 0.345 0.332 0.324 0.315 0.317 0.317 0.317 0.313 0.311\n",
      " 0.316 0.314 0.309 0.312 0.315 0.317 0.317 0.318 0.32  0.322 0.32  0.323\n",
      " 0.323]\n"
     ]
    },
    {
     "data": {
      "text/plain": [
       "29"
      ]
     },
     "execution_count": 92,
     "metadata": {},
     "output_type": "execute_result"
    }
   ],
   "source": [
    " #To choose optimal_k using brute force algorithm\n",
    "\n",
    "optimal_k_bow = k_classifier_brute(X_train, y_train)\n",
    "optimal_k_bow"
   ]
  },
  {
   "cell_type": "code",
   "execution_count": 93,
   "metadata": {},
   "outputs": [
    {
     "data": {
      "text/plain": [
       "(7000, 10438)"
      ]
     },
     "execution_count": 93,
     "metadata": {},
     "output_type": "execute_result"
    }
   ],
   "source": [
    "X_train.shape"
   ]
  },
  {
   "cell_type": "code",
   "execution_count": 94,
   "metadata": {},
   "outputs": [],
   "source": [
    "x_test = np.nan_to_num(x_test)"
   ]
  },
  {
   "cell_type": "code",
   "execution_count": 95,
   "metadata": {},
   "outputs": [
    {
     "data": {
      "text/plain": [
       "(3000, 10438)"
      ]
     },
     "execution_count": 95,
     "metadata": {},
     "output_type": "execute_result"
    }
   ],
   "source": [
    "x_test.shape"
   ]
  },
  {
   "cell_type": "code",
   "execution_count": 96,
   "metadata": {},
   "outputs": [],
   "source": [
    "# instantiate learning model k = optimal_k\n",
    "knn_optimal = KNeighborsClassifier(n_neighbors=optimal_k_bow)\n",
    "\n",
    "# fitting the model\n",
    "knn_optimal.fit(X_train, y_train)\n",
    "#knn_optimal.fit(bow_data, y_train)\n",
    "\n",
    "# predict the response\n",
    "pred = knn_optimal.predict(x_test)"
   ]
  },
  {
   "cell_type": "code",
   "execution_count": 97,
   "metadata": {},
   "outputs": [
    {
     "name": "stdout",
     "output_type": "stream",
     "text": [
      "Train accuracy 0.736\n"
     ]
    }
   ],
   "source": [
    "# Accuracy on train data\n",
    "train_acc_bow = knn_optimal.score(X_train, y_train)\n",
    "print(\"Train accuracy\", train_acc_bow)"
   ]
  },
  {
   "cell_type": "code",
   "execution_count": 98,
   "metadata": {},
   "outputs": [
    {
     "name": "stdout",
     "output_type": "stream",
     "text": [
      "Train Error 0.264000%\n"
     ]
    }
   ],
   "source": [
    "# Error on train data\n",
    "train_err_bow = 1-train_acc_bow\n",
    "print(\"Train Error %f%%\" % (train_err_bow))"
   ]
  },
  {
   "cell_type": "code",
   "execution_count": 99,
   "metadata": {},
   "outputs": [
    {
     "name": "stdout",
     "output_type": "stream",
     "text": [
      "\n",
      "The accuracy of the knn classifier for k = 29 is 67.400000%\n"
     ]
    }
   ],
   "source": [
    "# evaluate accuracy on test data\n",
    "acc_bow = accuracy_score(y_test, pred) * 100\n",
    "print('\\nThe accuracy of the knn classifier for k = %d is %f%%' % (optimal_k_bow, acc_bow))"
   ]
  },
  {
   "cell_type": "code",
   "execution_count": null,
   "metadata": {},
   "outputs": [],
   "source": [
    "# Observation - This model is not good for classifaction with KNN\n",
    "# Train and test accuracy is not more for classification "
   ]
  },
  {
   "cell_type": "code",
   "execution_count": 100,
   "metadata": {},
   "outputs": [],
   "source": [
    "# TF-IDF\n",
    "X = final_data[\"CleanedText\"]"
   ]
  },
  {
   "cell_type": "code",
   "execution_count": 101,
   "metadata": {},
   "outputs": [],
   "source": [
    "# Target/class-label\n",
    "y = final_data[\"Score\"]"
   ]
  },
  {
   "cell_type": "code",
   "execution_count": 102,
   "metadata": {},
   "outputs": [
    {
     "name": "stdout",
     "output_type": "stream",
     "text": [
      "(7000,) (3000,) (7000,) (3000,)\n"
     ]
    }
   ],
   "source": [
    "# Split data\n",
    "X_train, x_test, y_train, y_test = train_test_split(X, y, test_size = 0.3, random_state = 42)\n",
    "print(X_train.shape, x_test.shape, y_train.shape, y_test.shape)"
   ]
  },
  {
   "cell_type": "code",
   "execution_count": 103,
   "metadata": {},
   "outputs": [],
   "source": [
    "X_train = np.nan_to_num(X_train)\n",
    "y_train = np.nan_to_num(y_train)\n",
    "x_test = np.nan_to_num(x_test)\n",
    "y_test = np.nan_to_num(y_test)"
   ]
  },
  {
   "cell_type": "code",
   "execution_count": 104,
   "metadata": {},
   "outputs": [
    {
     "data": {
      "text/plain": [
       "<7000x165454 sparse matrix of type '<class 'numpy.float64'>'\n",
       "\twith 500845 stored elements in Compressed Sparse Row format>"
      ]
     },
     "execution_count": 104,
     "metadata": {},
     "output_type": "execute_result"
    }
   ],
   "source": [
    "from sklearn.feature_extraction.text import TfidfVectorizer\n",
    "\n",
    "#tfidf = TfidfVectorizer()\n",
    "#tfidf_data = tfidf.fit_transform(final_4000[\"CleanedText\"])\n",
    "#tfidf_data\n",
    "tf_idf_vect = TfidfVectorizer(ngram_range=(1,2))\n",
    "X_train = tf_idf_vect.fit_transform(X_train)\n",
    "X_train"
   ]
  },
  {
   "cell_type": "code",
   "execution_count": 105,
   "metadata": {},
   "outputs": [
    {
     "data": {
      "text/plain": [
       "(3000, 165454)"
      ]
     },
     "execution_count": 105,
     "metadata": {},
     "output_type": "execute_result"
    }
   ],
   "source": [
    "# Convert test text data to its vectorizor\n",
    "x_test = tf_idf_vect.transform(x_test)\n",
    "x_test.shape"
   ]
  },
  {
   "cell_type": "code",
   "execution_count": 106,
   "metadata": {},
   "outputs": [
    {
     "name": "stdout",
     "output_type": "stream",
     "text": [
      "\n",
      "The optimal number of neighbors is 47.\n"
     ]
    },
    {
     "data": {
      "image/png": "[encoded data removed]",
      "text/plain": [
       "<Figure size 432x288 with 1 Axes>"
      ]
     },
     "metadata": {
      "needs_background": "light"
     },
     "output_type": "display_data"
    },
    {
     "name": "stdout",
     "output_type": "stream",
     "text": [
      "the misclassification error for each k value is :  [0.269 0.289 0.282 0.277 0.269 0.269 0.261 0.253 0.251 0.249 0.242 0.244\n",
      " 0.239 0.234 0.232 0.234 0.233 0.233 0.231 0.232 0.23  0.227 0.229 0.226\n",
      " 0.228]\n"
     ]
    },
    {
     "data": {
      "text/plain": [
       "47"
      ]
     },
     "execution_count": 106,
     "metadata": {},
     "output_type": "execute_result"
    }
   ],
   "source": [
    "#To choosing optimal_k\n",
    "\n",
    "optimal_k_tfidf = k_classifier_brute(X_train, y_train)\n",
    "optimal_k_tfidf"
   ]
  },
  {
   "cell_type": "code",
   "execution_count": 107,
   "metadata": {},
   "outputs": [],
   "source": [
    "# instantiate learning model k = optimal_k\n",
    "knn_optimal = KNeighborsClassifier(n_neighbors=optimal_k_tfidf)\n",
    "\n",
    "# fitting the model\n",
    "knn_optimal.fit(X_train, y_train)\n",
    "#knn_optimal.fit(bow_data, y_train)\n",
    "    \n",
    "# predict the response\n",
    "pred = knn_optimal.predict(x_test)"
   ]
  },
  {
   "cell_type": "code",
   "execution_count": 108,
   "metadata": {},
   "outputs": [
    {
     "name": "stdout",
     "output_type": "stream",
     "text": [
      "Train accuracy 0.799\n"
     ]
    }
   ],
   "source": [
    "# Accuracy on train data\n",
    "train_acc_tfidf = knn_optimal.score(X_train, y_train)\n",
    "print(\"Train accuracy\", train_acc_tfidf)"
   ]
  },
  {
   "cell_type": "code",
   "execution_count": 109,
   "metadata": {},
   "outputs": [
    {
     "name": "stdout",
     "output_type": "stream",
     "text": [
      "Train Error 0.201000%\n"
     ]
    }
   ],
   "source": [
    "# Error on train data\n",
    "train_err_tfidf = 1-train_acc_tfidf\n",
    "print(\"Train Error %f%%\" % (train_err_tfidf))"
   ]
  },
  {
   "cell_type": "code",
   "execution_count": 110,
   "metadata": {},
   "outputs": [
    {
     "name": "stdout",
     "output_type": "stream",
     "text": [
      "\n",
      "The accuracy of the knn classifier for k = 47 is 75.900000%\n"
     ]
    }
   ],
   "source": [
    "# evaluate accuracy\n",
    "acc_tfidf = accuracy_score(y_test, pred) * 100\n",
    "print('\\nThe accuracy of the knn classifier for k = %d is %f%%' % (optimal_k_tfidf, acc_tfidf))"
   ]
  },
  {
   "cell_type": "code",
   "execution_count": 134,
   "metadata": {},
   "outputs": [],
   "source": [
    "# This model is good compare to the BOW model \n",
    "# But it also give a large error in training data set but useen data accuracy is good compare to the last model"
   ]
  },
  {
   "cell_type": "code",
   "execution_count": 135,
   "metadata": {},
   "outputs": [],
   "source": [
    "# W2V"
   ]
  },
  {
   "cell_type": "code",
   "execution_count": 136,
   "metadata": {},
   "outputs": [],
   "source": [
    "import gensim\n"
   ]
  },
  {
   "cell_type": "code",
   "execution_count": 137,
   "metadata": {},
   "outputs": [
    {
     "data": {
      "text/plain": [
       "(10000,)"
      ]
     },
     "execution_count": 137,
     "metadata": {},
     "output_type": "execute_result"
    }
   ],
   "source": [
    "X = final_data[\"Text\"]\n",
    "X.shape"
   ]
  },
  {
   "cell_type": "code",
   "execution_count": 138,
   "metadata": {},
   "outputs": [],
   "source": [
    "y = final_data[\"Score\"]"
   ]
  },
  {
   "cell_type": "code",
   "execution_count": 139,
   "metadata": {},
   "outputs": [
    {
     "data": {
      "text/plain": [
       "(10000,)"
      ]
     },
     "execution_count": 139,
     "metadata": {},
     "output_type": "execute_result"
    }
   ],
   "source": [
    "y.shape"
   ]
  },
  {
   "cell_type": "code",
   "execution_count": 140,
   "metadata": {},
   "outputs": [
    {
     "name": "stdout",
     "output_type": "stream",
     "text": [
      "(7000,) (3000,) (7000,) (3000,)\n"
     ]
    }
   ],
   "source": [
    "X_train, x_test, y_train, y_test = train_test_split(X, y, test_size = 0.3)\n",
    "print(X_train.shape, x_test.shape, y_train.shape, y_test.shape)"
   ]
  },
  {
   "cell_type": "code",
   "execution_count": 141,
   "metadata": {},
   "outputs": [],
   "source": [
    "import re\n",
    "\n",
    "def cleanhtml(sentence): #function to clean the word of any html-tags\n",
    "    cleanr = re.compile('<.*?>')\n",
    "    cleantext = re.sub(cleanr, ' ', sentence)\n",
    "    return cleantext\n",
    "def cleanpunc(sentence): #function to clean the word of any punctuation or special characters\n",
    "    cleaned = re.sub(r'[?|!|\\'|\"|#]',r'',sentence)\n",
    "    cleaned = re.sub(r'[.|,|)|(|\\|/]',r' ',cleaned)\n",
    "    return  cleaned"
   ]
  },
  {
   "cell_type": "code",
   "execution_count": 142,
   "metadata": {},
   "outputs": [],
   "source": [
    "# Train your own Word2Vec model using your own train text corpus\n",
    "import gensim\n",
    "list_of_sent=[]\n",
    "#for sent in final_40k['Text'].values:\n",
    "for sent in X_train:\n",
    "    filtered_sentence=[]\n",
    "    sent=cleanhtml(sent)\n",
    "    for w in sent.split():\n",
    "        for cleaned_words in cleanpunc(w).split():\n",
    "            if(cleaned_words.isalpha()):    \n",
    "                filtered_sentence.append(cleaned_words.lower())\n",
    "            else:\n",
    "                continue \n",
    "    list_of_sent.append(filtered_sentence)"
   ]
  },
  {
   "cell_type": "code",
   "execution_count": 143,
   "metadata": {},
   "outputs": [],
   "source": [
    "w2v_model=gensim.models.Word2Vec(list_of_sent,min_count=5,size=50, workers=4)"
   ]
  },
  {
   "cell_type": "code",
   "execution_count": 144,
   "metadata": {},
   "outputs": [
    {
     "name": "stderr",
     "output_type": "stream",
     "text": [
      "/usr/local/anaconda/lib/python3.7/site-packages/gensim-3.6.0-py3.7-linux-x86_64.egg/gensim/matutils.py:737: FutureWarning: Conversion of the second argument of issubdtype from `int` to `np.signedinteger` is deprecated. In future, it will be treated as `np.int64 == np.dtype(int).type`.\n",
      "  if np.issubdtype(vec.dtype, np.int):\n"
     ]
    },
    {
     "data": {
      "text/plain": [
       "[('think', 0.7485138177871704),\n",
       " ('prefer', 0.7427094578742981),\n",
       " ('weird', 0.7045055031776428),\n",
       " ('enjoy', 0.6955498456954956),\n",
       " ('smell', 0.6806859970092773),\n",
       " ('artificial', 0.6731626987457275),\n",
       " ('assume', 0.6668484210968018),\n",
       " ('awful', 0.6641323566436768),\n",
       " ('notice', 0.6628615856170654),\n",
       " ('really', 0.6535105109214783)]"
      ]
     },
     "execution_count": 144,
     "metadata": {},
     "output_type": "execute_result"
    }
   ],
   "source": [
    "w2v_model.wv.most_similar('like')"
   ]
  },
  {
   "cell_type": "code",
   "execution_count": 145,
   "metadata": {},
   "outputs": [
    {
     "name": "stderr",
     "output_type": "stream",
     "text": [
      "/usr/local/anaconda/lib/python3.7/site-packages/ipykernel_launcher.py:1: DeprecationWarning: Call to deprecated `__getitem__` (Method will be removed in 4.0.0, use self.wv.__getitem__() instead).\n",
      "  \"\"\"Entry point for launching an IPython kernel.\n"
     ]
    }
   ],
   "source": [
    "w2v = w2v_model[w2v_model.wv.vocab]"
   ]
  },
  {
   "cell_type": "code",
   "execution_count": 146,
   "metadata": {},
   "outputs": [
    {
     "data": {
      "text/plain": [
       "(5310, 50)"
      ]
     },
     "execution_count": 146,
     "metadata": {},
     "output_type": "execute_result"
    }
   ],
   "source": [
    "w2v.shape"
   ]
  },
  {
   "cell_type": "code",
   "execution_count": 147,
   "metadata": {},
   "outputs": [],
   "source": [
    "# Train your own Word2Vec model using your own test text corpus\n",
    "import gensim\n",
    "list_of_sent_test = []\n",
    "#for sent in final_40k['Text'].values:\n",
    "for sent in x_test:\n",
    "    filtered_sentence=[]\n",
    "    sent=cleanhtml(sent)\n",
    "    for w in sent.split():\n",
    "        for cleaned_words in cleanpunc(w).split():\n",
    "            if(cleaned_words.isalpha()):    \n",
    "                filtered_sentence.append(cleaned_words.lower())\n",
    "            else:\n",
    "                continue \n",
    "    list_of_sent_test.append(filtered_sentence)"
   ]
  },
  {
   "cell_type": "code",
   "execution_count": 148,
   "metadata": {},
   "outputs": [],
   "source": [
    "w2v_model=gensim.models.Word2Vec(list_of_sent_test, min_count=5, size=50, workers=4)"
   ]
  },
  {
   "cell_type": "code",
   "execution_count": 149,
   "metadata": {},
   "outputs": [
    {
     "data": {
      "text/plain": [
       "[('taste', 0.9477003812789917),\n",
       " ('really', 0.9293665885925293),\n",
       " ('but', 0.9205743074417114),\n",
       " ('bad', 0.9187256693840027),\n",
       " ('much', 0.9122692942619324),\n",
       " ('too', 0.9115270376205444),\n",
       " ('just', 0.9037497043609619),\n",
       " ('way', 0.8984776735305786),\n",
       " ('its', 0.8974325656890869),\n",
       " ('sweet', 0.8929460048675537)]"
      ]
     },
     "execution_count": 149,
     "metadata": {},
     "output_type": "execute_result"
    }
   ],
   "source": [
    "w2v_model.wv.most_similar('like')"
   ]
  },
  {
   "cell_type": "code",
   "execution_count": 150,
   "metadata": {},
   "outputs": [
    {
     "name": "stderr",
     "output_type": "stream",
     "text": [
      "/usr/local/anaconda/lib/python3.7/site-packages/ipykernel_launcher.py:1: DeprecationWarning: Call to deprecated `__getitem__` (Method will be removed in 4.0.0, use self.wv.__getitem__() instead).\n",
      "  \"\"\"Entry point for launching an IPython kernel.\n"
     ]
    }
   ],
   "source": [
    "w2v = w2v_model[w2v_model.wv.vocab]"
   ]
  },
  {
   "cell_type": "code",
   "execution_count": 151,
   "metadata": {},
   "outputs": [
    {
     "data": {
      "text/plain": [
       "(3309, 50)"
      ]
     },
     "execution_count": 151,
     "metadata": {},
     "output_type": "execute_result"
    }
   ],
   "source": [
    "w2v.shape"
   ]
  },
  {
   "cell_type": "code",
   "execution_count": 152,
   "metadata": {},
   "outputs": [
    {
     "name": "stdout",
     "output_type": "stream",
     "text": [
      "7000\n",
      "50\n"
     ]
    }
   ],
   "source": [
    "# Average Word2Vec\n",
    "# average Word2Vec\n",
    "# compute average word2vec for each review.\n",
    "sent_vectors = []; # the avg-w2v for each sentence/review is stored in this list\n",
    "for sent in list_of_sent: # for each review/sentence\n",
    "    sent_vec = np.zeros(50) # as word vectors are of zero length\n",
    "    cnt_words =0; # num of words with a valid vector in the sentence/review\n",
    "    for word in sent: # for each word in a review/sentence\n",
    "        try:\n",
    "            vec = w2v_model.wv[word]\n",
    "            sent_vec += vec\n",
    "            cnt_words += 1\n",
    "        except:\n",
    "            pass\n",
    "    sent_vec /= cnt_words\n",
    "    sent_vectors.append(sent_vec)\n",
    "print(len(sent_vectors))\n",
    "print(len(sent_vectors[0]))\n",
    "sent_vectors= np.nan_to_num(sent_vectors)"
   ]
  },
  {
   "cell_type": "code",
   "execution_count": 153,
   "metadata": {},
   "outputs": [
    {
     "name": "stdout",
     "output_type": "stream",
     "text": [
      "3000\n",
      "50\n"
     ]
    }
   ],
   "source": [
    "# average Word2Vec\n",
    "# compute average word2vec for each review.\n",
    "sent_vectors_test = []; # the avg-w2v for each sentence/review is stored in this list\n",
    "for sent in list_of_sent_test: # for each review/sentence\n",
    "    sent_vec = np.zeros(50) # as word vectors are of zero length\n",
    "    cnt_words =0; # num of words with a valid vector in the sentence/review\n",
    "    for word in sent: # for each word in a review/sentence\n",
    "        try:\n",
    "            vec = w2v_model.wv[word]\n",
    "            sent_vec += vec\n",
    "            cnt_words += 1\n",
    "        except:\n",
    "            pass\n",
    "    sent_vec /= cnt_words\n",
    "    sent_vectors_test.append(sent_vec)\n",
    "print(len(sent_vectors_test))\n",
    "print(len(sent_vectors_test[0]))\n",
    "sent_vectors_test = np.nan_to_num(sent_vectors_test)"
   ]
  },
  {
   "cell_type": "code",
   "execution_count": 154,
   "metadata": {},
   "outputs": [],
   "source": [
    "X_train = sent_vectors\n",
    "y_train = np.nan_to_num(y_train)"
   ]
  },
  {
   "cell_type": "code",
   "execution_count": 155,
   "metadata": {},
   "outputs": [],
   "source": [
    "x_test = sent_vectors_test"
   ]
  },
  {
   "cell_type": "code",
   "execution_count": 156,
   "metadata": {},
   "outputs": [
    {
     "name": "stdout",
     "output_type": "stream",
     "text": [
      "\n",
      "The optimal number of neighbors is 1.\n"
     ]
    },
    {
     "data": {
      "image/png": "[encoded data removed]",
      "text/plain": [
       "<Figure size 432x288 with 1 Axes>"
      ]
     },
     "metadata": {
      "needs_background": "light"
     },
     "output_type": "display_data"
    },
    {
     "name": "stdout",
     "output_type": "stream",
     "text": [
      "the misclassification error for each k value is :  [0.34  0.39  0.386 0.384 0.38  0.376 0.377 0.378 0.377 0.377 0.374 0.371\n",
      " 0.37  0.373 0.376 0.375 0.372 0.372 0.371 0.367 0.368 0.362 0.369 0.364\n",
      " 0.365]\n"
     ]
    },
    {
     "data": {
      "text/plain": [
       "1"
      ]
     },
     "execution_count": 156,
     "metadata": {},
     "output_type": "execute_result"
    }
   ],
   "source": [
    "optimal_k_avgw2v = k_classifier_brute(X_train, y_train)\n",
    "optimal_k_avgw2v"
   ]
  },
  {
   "cell_type": "code",
   "execution_count": 157,
   "metadata": {},
   "outputs": [],
   "source": [
    "y_test = np.nan_to_num(y_test)"
   ]
  },
  {
   "cell_type": "code",
   "execution_count": 158,
   "metadata": {},
   "outputs": [],
   "source": [
    "# instantiate learning model k = optimal_k\n",
    "knn_optimal = KNeighborsClassifier(n_neighbors=optimal_k_avgw2v)\n",
    "\n",
    "# fitting the model\n",
    "knn_optimal.fit(X_train, y_train)\n",
    "#knn_optimal.fit(bow_data, y_train)\n",
    "    \n",
    "# predict the response\n",
    "pred = knn_optimal.predict(x_test)"
   ]
  },
  {
   "cell_type": "code",
   "execution_count": 159,
   "metadata": {},
   "outputs": [
    {
     "name": "stdout",
     "output_type": "stream",
     "text": [
      "Train accuracy 1.0\n"
     ]
    }
   ],
   "source": [
    "# Accuracy on train data\n",
    "train_acc_avgw2v = knn_optimal.score(X_train, y_train)\n",
    "print(\"Train accuracy\", train_acc_avgw2v)\n"
   ]
  },
  {
   "cell_type": "code",
   "execution_count": 160,
   "metadata": {},
   "outputs": [
    {
     "name": "stdout",
     "output_type": "stream",
     "text": [
      "Train Error 0.000000%\n"
     ]
    }
   ],
   "source": [
    "# Error on train data\n",
    "train_err_avgw2v = 1-train_acc_avgw2v\n",
    "print(\"Train Error %f%%\" % (train_err_avgw2v))\n"
   ]
  },
  {
   "cell_type": "code",
   "execution_count": 161,
   "metadata": {},
   "outputs": [
    {
     "name": "stdout",
     "output_type": "stream",
     "text": [
      "\n",
      "The accuracy of the knn classifier for k = 1 is 66.433333%\n"
     ]
    }
   ],
   "source": [
    "# evaluate accuracy\n",
    "acc_avg_w2v = accuracy_score(y_test, pred) * 100\n",
    "print('\\nThe accuracy of the knn classifier for k = %d is %f%%' % (optimal_k_avgw2v, acc_avg_w2v))"
   ]
  },
  {
   "cell_type": "code",
   "execution_count": 162,
   "metadata": {},
   "outputs": [
    {
     "name": "stdout",
     "output_type": "stream",
     "text": [
      "Test Error -33.566667%\n"
     ]
    }
   ],
   "source": [
    "print(\"Test Error %f%%\" %-(100-(acc_avg_w2v)))"
   ]
  },
  {
   "cell_type": "code",
   "execution_count": 163,
   "metadata": {},
   "outputs": [
    {
     "name": "stderr",
     "output_type": "stream",
     "text": [
      "/usr/local/anaconda/lib/python3.7/site-packages/ipykernel_launcher.py:20: RuntimeWarning: invalid value encountered in true_divide\n"
     ]
    }
   ],
   "source": [
    "#TF-IDFweighted Word2Vec\n",
    "# TF-IDF weighted Word2Vec\n",
    "tfidf_feat = tf_idf_vect.get_feature_names() # tfidf words/col-names\n",
    "# final_tf_idf is the sparse matrix with row= sentence, col=word and cell_val = tfidf\n",
    "\n",
    "tfidf_sent_vectors = []; # the tfidf-w2v for each sentence/review is stored in this list\n",
    "row=0;\n",
    "for sent in list_of_sent: # for each review/sentence\n",
    "    sent_vec = np.zeros(50) # as word vectors are of zero length\n",
    "    weight_sum =0; # num of words with a valid vector in the sentence/review\n",
    "    for word in sent: # for each word in a review/sentence\n",
    "        try:\n",
    "            vec = w2v_model.wv[word]\n",
    "            # obtain the tf_idfidf of a word in a sentence/review\n",
    "            tfidf = final_tf_idf[row, tfidf_feat.index(word)]\n",
    "            sent_vec += (vec * tf_idf)\n",
    "            weight_sum += tf_idf\n",
    "        except:\n",
    "            pass\n",
    "    sent_vec /= weight_sum\n",
    "    tfidf_sent_vectors.append(sent_vec)\n",
    "    row += 1  "
   ]
  },
  {
   "cell_type": "code",
   "execution_count": 164,
   "metadata": {},
   "outputs": [
    {
     "data": {
      "text/plain": [
       "7000"
      ]
     },
     "execution_count": 164,
     "metadata": {},
     "output_type": "execute_result"
    }
   ],
   "source": [
    "len(tfidf_sent_vectors)"
   ]
  },
  {
   "cell_type": "code",
   "execution_count": 165,
   "metadata": {},
   "outputs": [],
   "source": [
    "X_train = tfidf_sent_vectors"
   ]
  },
  {
   "cell_type": "code",
   "execution_count": 166,
   "metadata": {},
   "outputs": [
    {
     "name": "stderr",
     "output_type": "stream",
     "text": [
      "/usr/local/anaconda/lib/python3.7/site-packages/ipykernel_launcher.py:19: RuntimeWarning: invalid value encountered in true_divide\n"
     ]
    }
   ],
   "source": [
    "# TF-IDF weighted Word2Vec\n",
    "tfidf_feat = tf_idf_vect.get_feature_names() # tfidf words/col-names\n",
    "# final_tf_idf is the sparse matrix with row= sentence, col=word and cell_val = tfidf\n",
    "\n",
    "tfidf_sent_vectors_test = []; # the tfidf-w2v for each sentence/review is stored in this list\n",
    "row=0;\n",
    "for sent in list_of_sent_test: # for each review/sentence\n",
    "    sent_vec = np.zeros(50) # as word vectors are of zero length\n",
    "    weight_sum =0; # num of words with a valid vector in the sentence/review\n",
    "    for word in sent: # for each word in a review/sentence\n",
    "        try:\n",
    "            vec = w2v_model.wv[word]\n",
    "            # obtain the tf_idfidf of a word in a sentence/review\n",
    "            tfidf = final_tf_idf[row, tfidf_feat.index(word)]\n",
    "            sent_vec += (vec * tf_idf)\n",
    "            weight_sum += tf_idf\n",
    "        except:\n",
    "            pass\n",
    "    sent_vec /= weight_sum\n",
    "    tfidf_sent_vectors_test.append(sent_vec)\n",
    "    row += 1  "
   ]
  },
  {
   "cell_type": "code",
   "execution_count": 167,
   "metadata": {},
   "outputs": [
    {
     "data": {
      "text/plain": [
       "3000"
      ]
     },
     "execution_count": 167,
     "metadata": {},
     "output_type": "execute_result"
    }
   ],
   "source": [
    "len(tfidf_sent_vectors_test)"
   ]
  },
  {
   "cell_type": "code",
   "execution_count": 168,
   "metadata": {},
   "outputs": [],
   "source": [
    "x_test = tfidf_sent_vectors_test"
   ]
  },
  {
   "cell_type": "code",
   "execution_count": 169,
   "metadata": {},
   "outputs": [],
   "source": [
    "X_train = np.nan_to_num(X_train)"
   ]
  },
  {
   "cell_type": "code",
   "execution_count": 170,
   "metadata": {},
   "outputs": [],
   "source": [
    "x_test = np.nan_to_num(x_test)"
   ]
  },
  {
   "cell_type": "code",
   "execution_count": 171,
   "metadata": {},
   "outputs": [
    {
     "name": "stdout",
     "output_type": "stream",
     "text": [
      "\n",
      "The optimal number of neighbors is 3.\n"
     ]
    },
    {
     "data": {
      "image/png": "[encoded data removed]",
      "text/plain": [
       "<Figure size 432x288 with 1 Axes>"
      ]
     },
     "metadata": {
      "needs_background": "light"
     },
     "output_type": "display_data"
    },
    {
     "name": "stdout",
     "output_type": "stream",
     "text": [
      "the misclassification error for each k value is :  [0.501 0.497 0.497 0.497 0.497 0.497 0.497 0.497 0.497 0.497 0.497 0.497\n",
      " 0.497 0.497 0.497 0.497 0.497 0.497 0.497 0.497 0.497 0.497 0.497 0.497\n",
      " 0.497]\n"
     ]
    },
    {
     "data": {
      "text/plain": [
       "3"
      ]
     },
     "execution_count": 171,
     "metadata": {},
     "output_type": "execute_result"
    }
   ],
   "source": [
    "optimal_k_tfidf_w2v = k_classifier_brute(X_train, y_train)\n",
    "optimal_k_tfidf_w2v"
   ]
  },
  {
   "cell_type": "code",
   "execution_count": 172,
   "metadata": {},
   "outputs": [],
   "source": [
    "# instantiate learning model k = optimal_k\n",
    "knn_optimal = KNeighborsClassifier(n_neighbors=optimal_k_tfidf_w2v)\n",
    "\n",
    "# fitting the model\n",
    "knn_optimal.fit(X_train, y_train)\n",
    "#knn_optimal.fit(bow_data, y_train)\n",
    "    \n",
    "# predict the response\n",
    "pred = knn_optimal.predict(x_test)"
   ]
  },
  {
   "cell_type": "code",
   "execution_count": 173,
   "metadata": {},
   "outputs": [
    {
     "name": "stdout",
     "output_type": "stream",
     "text": [
      "Train accuracy 0.497\n"
     ]
    }
   ],
   "source": [
    "# Accuracy on train data\n",
    "train_acc_tfidf_w2v = knn_optimal.score(X_train, y_train)\n",
    "print(\"Train accuracy\", train_acc_tfidf_w2v)"
   ]
  },
  {
   "cell_type": "code",
   "execution_count": 174,
   "metadata": {},
   "outputs": [
    {
     "name": "stdout",
     "output_type": "stream",
     "text": [
      "Train Error 0.503000%\n"
     ]
    }
   ],
   "source": [
    "# Error on train data\n",
    "train_err_tfidf_w2v = 1-train_acc_tfidf_w2v\n",
    "print(\"Train Error %f%%\" % (train_err_tfidf_w2v))"
   ]
  },
  {
   "cell_type": "code",
   "execution_count": 175,
   "metadata": {},
   "outputs": [
    {
     "name": "stdout",
     "output_type": "stream",
     "text": [
      "\n",
      "The accuracy of the knn classifier for k = 3 is 50.700000%\n"
     ]
    }
   ],
   "source": [
    "# evaluate accuracy\n",
    "acc_tfidf_w2v = accuracy_score(y_test, pred) * 100\n",
    "print('\\nThe accuracy of the knn classifier for k = %d is %f%%' % (optimal_k_tfidf_w2v, acc_tfidf_w2v))"
   ]
  },
  {
   "cell_type": "code",
   "execution_count": 176,
   "metadata": {},
   "outputs": [
    {
     "name": "stdout",
     "output_type": "stream",
     "text": [
      "Test Error -49.300000%\n"
     ]
    }
   ],
   "source": [
    "print(\"Test Error %f%%\" %-(100-(acc_tfidf_w2v)))"
   ]
  },
  {
   "cell_type": "code",
   "execution_count": 177,
   "metadata": {},
   "outputs": [
    {
     "data": {
      "text/plain": [
       "'\\nConclusions:\\n1. KNN is a classifier algorithm but most off time it is not give a best solution \\n2. KNN with tfidf model give a best unseen data accuray instead of other models like BOW, W2V, avgW2v etc\\n3. KNN with avgW2v is also good for training data set but nor testing or useen data set\\n4. When value of k will be increase then most of time misclassifaction error is decreasing \\n'"
      ]
     },
     "execution_count": 177,
     "metadata": {},
     "output_type": "execute_result"
    }
   ],
   "source": [
    "'''\n",
    "Conclusions:\n",
    "1. KNN is a classifier algorithm but most off time it is not give a best solution \n",
    "2. KNN with tfidf model give a best unseen data accuray instead of other models like BOW, W2V, avgW2v etc\n",
    "3. KNN with avgW2v is also good for training data set but nor testing or useen data set\n",
    "4. When value of k will be increase then most of time misclassifaction error is decreasing \n",
    "'''"
   ]
  },
  {
   "cell_type": "code",
   "execution_count": null,
   "metadata": {},
   "outputs": [],
   "source": []
  },
  {
   "cell_type": "code",
   "execution_count": null,
   "metadata": {},
   "outputs": [],
   "source": []
  },
  {
   "cell_type": "code",
   "execution_count": null,
   "metadata": {},
   "outputs": [],
   "source": []
  }
 ],
 "metadata": {
  "kernelspec": {
   "display_name": "Python 3",
   "language": "python",
   "name": "python3"
  },
  "language_info": {
   "codemirror_mode": {
    "name": "ipython",
    "version": 3
   },
   "file_extension": ".py",
   "mimetype": "text/x-python",
   "name": "python",
   "nbconvert_exporter": "python",
   "pygments_lexer": "ipython3",
   "version": "3.7.1"
  }
 },
 "nbformat": 4,
 "nbformat_minor": 2
}
